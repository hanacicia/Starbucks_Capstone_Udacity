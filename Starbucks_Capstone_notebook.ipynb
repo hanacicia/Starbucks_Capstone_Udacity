{
 "cells": [
  {
   "cell_type": "markdown",
   "metadata": {},
   "source": [
    "# Starbucks Capstone Challenge\n",
    "\n",
    "### Introduction\n",
    "\n",
    "This data set contains simulated data that mimics customer behavior on the Starbucks rewards mobile app. Once every few days, Starbucks sends out an offer to users of the mobile app. An offer can be merely an advertisement for a drink or an actual offer such as a discount or BOGO (buy one get one free). Some users might not receive any offer during certain weeks. \n",
    "\n",
    "Not all users receive the same offer, and that is the challenge to solve with this data set.\n",
    "\n",
    "Your task is to combine transaction, demographic and offer data to determine which demographic groups respond best to which offer type. This data set is a simplified version of the real Starbucks app because the underlying simulator only has one product whereas Starbucks actually sells dozens of products.\n",
    "\n",
    "Every offer has a validity period before the offer expires. As an example, a BOGO offer might be valid for only 5 days. You'll see in the data set that informational offers have a validity period even though these ads are merely providing information about a product; for example, if an informational offer has 7 days of validity, you can assume the customer is feeling the influence of the offer for 7 days after receiving the advertisement.\n",
    "\n",
    "You'll be given transactional data showing user purchases made on the app including the timestamp of purchase and the amount of money spent on a purchase. This transactional data also has a record for each offer that a user receives as well as a record for when a user actually views the offer. There are also records for when a user completes an offer. \n",
    "\n",
    "Keep in mind as well that someone using the app might make a purchase through the app without having received an offer or seen an offer.\n",
    "\n",
    "### Example\n",
    "\n",
    "To give an example, a user could receive a discount offer buy 10 dollars get 2 off on Monday. The offer is valid for 10 days from receipt. If the customer accumulates at least 10 dollars in purchases during the validity period, the customer completes the offer.\n",
    "\n",
    "However, there are a few things to watch out for in this data set. Customers do not opt into the offers that they receive; in other words, a user can receive an offer, never actually view the offer, and still complete the offer. For example, a user might receive the \"buy 10 dollars get 2 dollars off offer\", but the user never opens the offer during the 10 day validity period. The customer spends 15 dollars during those ten days. There will be an offer completion record in the data set; however, the customer was not influenced by the offer because the customer never viewed the offer.\n",
    "\n",
    "### Cleaning\n",
    "\n",
    "This makes data cleaning especially important and tricky.\n",
    "\n",
    "You'll also want to take into account that some demographic groups will make purchases even if they don't receive an offer. From a business perspective, if a customer is going to make a 10 dollar purchase without an offer anyway, you wouldn't want to send a buy 10 dollars get 2 dollars off offer. You'll want to try to assess what a certain demographic group will buy when not receiving any offers.\n",
    "\n",
    "### Final Advice\n",
    "\n",
    "Because this is a capstone project, you are free to analyze the data any way you see fit. For example, you could build a machine learning model that predicts how much someone will spend based on demographics and offer type. Or you could build a model that predicts whether or not someone will respond to an offer. Or, you don't need to build a machine learning model at all. You could develop a set of heuristics that determine what offer you should send to each customer (i.e., 75 percent of women customers who were 35 years old responded to offer A vs 40 percent from the same demographic to offer B, so send offer A)."
   ]
  },
  {
   "cell_type": "markdown",
   "metadata": {},
   "source": [
    "# Data Sets\n",
    "\n",
    "The data is contained in three files:\n",
    "\n",
    "* portfolio.json - containing offer ids and meta data about each offer (duration, type, etc.)\n",
    "* profile.json - demographic data for each customer\n",
    "* transcript.json - records for transactions, offers received, offers viewed, and offers completed\n",
    "\n",
    "Here is the schema and explanation of each variable in the files:\n",
    "\n",
    "**portfolio.json**\n",
    "* id (string) - offer id\n",
    "* offer_type (string) - type of offer ie BOGO, discount, informational\n",
    "* difficulty (int) - minimum required spend to complete an offer\n",
    "* reward (int) - reward given for completing an offer\n",
    "* duration (int) - time for offer to be open, in days\n",
    "* channels (list of strings)\n",
    "\n",
    "**profile.json**\n",
    "* age (int) - age of the customer \n",
    "* became_member_on (int) - date when customer created an app account\n",
    "* gender (str) - gender of the customer (note some entries contain 'O' for other rather than M or F)\n",
    "* id (str) - customer id\n",
    "* income (float) - customer's income\n",
    "\n",
    "**transcript.json**\n",
    "* event (str) - record description (ie transaction, offer received, offer viewed, etc.)\n",
    "* person (str) - customer id\n",
    "* time (int) - time in hours since start of test. The data begins at time t=0\n",
    "* value - (dict of strings) - either an offer id or transaction amount depending on the record\n",
    "\n",
    "**Note:** If you are using the workspace, you will need to go to the terminal and run the command `conda update pandas` before reading in the files. This is because the version of pandas in the workspace cannot read in the transcript.json file correctly, but the newest version of pandas can. You can access the termnal from the orange icon in the top left of this notebook.  \n",
    "\n",
    "You can see how to access the terminal and how the install works using the two images below.  First you need to access the terminal:\n",
    "\n",
    "<img src=\"pic1.png\"/>\n",
    "\n",
    "Then you will want to run the above command:\n",
    "\n",
    "<img src=\"pic2.png\"/>\n",
    "\n",
    "Finally, when you enter back into the notebook (use the jupyter icon again), you should be able to run the below cell without any errors."
   ]
  },
  {
   "cell_type": "code",
   "execution_count": 2,
   "metadata": {},
   "outputs": [],
   "source": [
    "import pandas as pd\n",
    "import numpy as np\n",
    "import math\n",
    "import json\n",
    "% matplotlib inline\n",
    "\n",
    "# read in the json files\n",
    "portfolio = pd.read_json('data/portfolio.json', orient='records', lines=True)\n",
    "profile = pd.read_json('data/profile.json', orient='records', lines=True)\n",
    "transcript = pd.read_json('data/transcript.json', orient='records', lines=True)"
   ]
  },
  {
   "cell_type": "code",
   "execution_count": 3,
   "metadata": {},
   "outputs": [],
   "source": [
    "import datetime\n",
    "import matplotlib.pyplot as plt\n",
    "import seaborn as sns\n",
    "from sklearn.model_selection import train_test_split\n",
    "from sklearn.preprocessing import StandardScaler\n",
    "from sklearn.linear_model import LogisticRegression\n",
    "from sklearn.tree import DecisionTreeClassifier\n",
    "from sklearn.ensemble import RandomForestClassifier\n",
    "from sklearn.svm import SVC\n",
    "from sklearn.metrics import mean_squared_error\n",
    "from sklearn.metrics import precision_score, recall_score, f1_score, confusion_matrix\n",
    "from sklearn.metrics import precision_recall_fscore_support\n",
    "import warnings\n",
    "warnings.filterwarnings('ignore')"
   ]
  },
  {
   "cell_type": "markdown",
   "metadata": {},
   "source": [
    "# The Goal\n",
    "- Your task is to combine transaction, demographic and offer data to determine which demographic groups respond best to which offer type. \n",
    "\n",
    "# 1 Data Explore and Visualization\n",
    "In this part, I will have a general look at the imported data. Try to answer these questions:\n",
    "- what are the dimensions of the datasets?\n",
    "- what features does each of them have?\n",
    "- what's the value range / value type of each feature?\n",
    "\n",
    "By answering these questions, i will have an idea of what resources I can use to solve the problem."
   ]
  },
  {
   "cell_type": "markdown",
   "metadata": {},
   "source": [
    "## 1.1 Portfolio Dataset"
   ]
  },
  {
   "cell_type": "code",
   "execution_count": 4,
   "metadata": {},
   "outputs": [
    {
     "data": {
      "text/plain": [
       "(10, 6)"
      ]
     },
     "execution_count": 4,
     "metadata": {},
     "output_type": "execute_result"
    }
   ],
   "source": [
    "portfolio.shape"
   ]
  },
  {
   "cell_type": "code",
   "execution_count": 5,
   "metadata": {},
   "outputs": [],
   "source": [
    "# This dataset is not big, so i will print all of it.\n",
    "portfolio.sort_values(by=['offer_type'], inplace=True)\n"
   ]
  },
  {
   "cell_type": "code",
   "execution_count": 6,
   "metadata": {},
   "outputs": [
    {
     "data": {
      "text/html": [
       "<div>\n",
       "<style scoped>\n",
       "    .dataframe tbody tr th:only-of-type {\n",
       "        vertical-align: middle;\n",
       "    }\n",
       "\n",
       "    .dataframe tbody tr th {\n",
       "        vertical-align: top;\n",
       "    }\n",
       "\n",
       "    .dataframe thead th {\n",
       "        text-align: right;\n",
       "    }\n",
       "</style>\n",
       "<table border=\"1\" class=\"dataframe\">\n",
       "  <thead>\n",
       "    <tr style=\"text-align: right;\">\n",
       "      <th></th>\n",
       "      <th>channels</th>\n",
       "      <th>difficulty</th>\n",
       "      <th>duration</th>\n",
       "      <th>id</th>\n",
       "      <th>offer_type</th>\n",
       "      <th>reward</th>\n",
       "    </tr>\n",
       "  </thead>\n",
       "  <tbody>\n",
       "    <tr>\n",
       "      <th>0</th>\n",
       "      <td>[email, mobile, social]</td>\n",
       "      <td>10</td>\n",
       "      <td>7</td>\n",
       "      <td>ae264e3637204a6fb9bb56bc8210ddfd</td>\n",
       "      <td>bogo</td>\n",
       "      <td>10</td>\n",
       "    </tr>\n",
       "    <tr>\n",
       "      <th>1</th>\n",
       "      <td>[web, email, mobile, social]</td>\n",
       "      <td>10</td>\n",
       "      <td>5</td>\n",
       "      <td>4d5c57ea9a6940dd891ad53e9dbe8da0</td>\n",
       "      <td>bogo</td>\n",
       "      <td>10</td>\n",
       "    </tr>\n",
       "    <tr>\n",
       "      <th>3</th>\n",
       "      <td>[web, email, mobile]</td>\n",
       "      <td>5</td>\n",
       "      <td>7</td>\n",
       "      <td>9b98b8c7a33c4b65b9aebfe6a799e6d9</td>\n",
       "      <td>bogo</td>\n",
       "      <td>5</td>\n",
       "    </tr>\n",
       "    <tr>\n",
       "      <th>8</th>\n",
       "      <td>[web, email, mobile, social]</td>\n",
       "      <td>5</td>\n",
       "      <td>5</td>\n",
       "      <td>f19421c1d4aa40978ebb69ca19b0e20d</td>\n",
       "      <td>bogo</td>\n",
       "      <td>5</td>\n",
       "    </tr>\n",
       "    <tr>\n",
       "      <th>4</th>\n",
       "      <td>[web, email]</td>\n",
       "      <td>20</td>\n",
       "      <td>10</td>\n",
       "      <td>0b1e1539f2cc45b7b9fa7c272da2e1d7</td>\n",
       "      <td>discount</td>\n",
       "      <td>5</td>\n",
       "    </tr>\n",
       "    <tr>\n",
       "      <th>5</th>\n",
       "      <td>[web, email, mobile, social]</td>\n",
       "      <td>7</td>\n",
       "      <td>7</td>\n",
       "      <td>2298d6c36e964ae4a3e7e9706d1fb8c2</td>\n",
       "      <td>discount</td>\n",
       "      <td>3</td>\n",
       "    </tr>\n",
       "    <tr>\n",
       "      <th>6</th>\n",
       "      <td>[web, email, mobile, social]</td>\n",
       "      <td>10</td>\n",
       "      <td>10</td>\n",
       "      <td>fafdcd668e3743c1bb461111dcafc2a4</td>\n",
       "      <td>discount</td>\n",
       "      <td>2</td>\n",
       "    </tr>\n",
       "    <tr>\n",
       "      <th>9</th>\n",
       "      <td>[web, email, mobile]</td>\n",
       "      <td>10</td>\n",
       "      <td>7</td>\n",
       "      <td>2906b810c7d4411798c6938adc9daaa5</td>\n",
       "      <td>discount</td>\n",
       "      <td>2</td>\n",
       "    </tr>\n",
       "    <tr>\n",
       "      <th>2</th>\n",
       "      <td>[web, email, mobile]</td>\n",
       "      <td>0</td>\n",
       "      <td>4</td>\n",
       "      <td>3f207df678b143eea3cee63160fa8bed</td>\n",
       "      <td>informational</td>\n",
       "      <td>0</td>\n",
       "    </tr>\n",
       "    <tr>\n",
       "      <th>7</th>\n",
       "      <td>[email, mobile, social]</td>\n",
       "      <td>0</td>\n",
       "      <td>3</td>\n",
       "      <td>5a8bc65990b245e5a138643cd4eb9837</td>\n",
       "      <td>informational</td>\n",
       "      <td>0</td>\n",
       "    </tr>\n",
       "  </tbody>\n",
       "</table>\n",
       "</div>"
      ],
      "text/plain": [
       "                       channels  difficulty  duration  \\\n",
       "0       [email, mobile, social]          10         7   \n",
       "1  [web, email, mobile, social]          10         5   \n",
       "3          [web, email, mobile]           5         7   \n",
       "8  [web, email, mobile, social]           5         5   \n",
       "4                  [web, email]          20        10   \n",
       "5  [web, email, mobile, social]           7         7   \n",
       "6  [web, email, mobile, social]          10        10   \n",
       "9          [web, email, mobile]          10         7   \n",
       "2          [web, email, mobile]           0         4   \n",
       "7       [email, mobile, social]           0         3   \n",
       "\n",
       "                                 id     offer_type  reward  \n",
       "0  ae264e3637204a6fb9bb56bc8210ddfd           bogo      10  \n",
       "1  4d5c57ea9a6940dd891ad53e9dbe8da0           bogo      10  \n",
       "3  9b98b8c7a33c4b65b9aebfe6a799e6d9           bogo       5  \n",
       "8  f19421c1d4aa40978ebb69ca19b0e20d           bogo       5  \n",
       "4  0b1e1539f2cc45b7b9fa7c272da2e1d7       discount       5  \n",
       "5  2298d6c36e964ae4a3e7e9706d1fb8c2       discount       3  \n",
       "6  fafdcd668e3743c1bb461111dcafc2a4       discount       2  \n",
       "9  2906b810c7d4411798c6938adc9daaa5       discount       2  \n",
       "2  3f207df678b143eea3cee63160fa8bed  informational       0  \n",
       "7  5a8bc65990b245e5a138643cd4eb9837  informational       0  "
      ]
     },
     "execution_count": 6,
     "metadata": {},
     "output_type": "execute_result"
    }
   ],
   "source": [
    "portfolio"
   ]
  },
  {
   "cell_type": "code",
   "execution_count": 7,
   "metadata": {},
   "outputs": [
    {
     "data": {
      "text/html": [
       "<div>\n",
       "<style scoped>\n",
       "    .dataframe tbody tr th:only-of-type {\n",
       "        vertical-align: middle;\n",
       "    }\n",
       "\n",
       "    .dataframe tbody tr th {\n",
       "        vertical-align: top;\n",
       "    }\n",
       "\n",
       "    .dataframe thead tr th {\n",
       "        text-align: left;\n",
       "    }\n",
       "\n",
       "    .dataframe thead tr:last-of-type th {\n",
       "        text-align: right;\n",
       "    }\n",
       "</style>\n",
       "<table border=\"1\" class=\"dataframe\">\n",
       "  <thead>\n",
       "    <tr>\n",
       "      <th></th>\n",
       "      <th colspan=\"6\" halign=\"left\">difficulty</th>\n",
       "      <th colspan=\"6\" halign=\"left\">duration</th>\n",
       "      <th colspan=\"6\" halign=\"left\">reward</th>\n",
       "    </tr>\n",
       "    <tr>\n",
       "      <th></th>\n",
       "      <th>count</th>\n",
       "      <th>mean</th>\n",
       "      <th>std</th>\n",
       "      <th>min</th>\n",
       "      <th>50%</th>\n",
       "      <th>max</th>\n",
       "      <th>count</th>\n",
       "      <th>mean</th>\n",
       "      <th>std</th>\n",
       "      <th>min</th>\n",
       "      <th>50%</th>\n",
       "      <th>max</th>\n",
       "      <th>count</th>\n",
       "      <th>mean</th>\n",
       "      <th>std</th>\n",
       "      <th>min</th>\n",
       "      <th>50%</th>\n",
       "      <th>max</th>\n",
       "    </tr>\n",
       "    <tr>\n",
       "      <th>offer_type</th>\n",
       "      <th></th>\n",
       "      <th></th>\n",
       "      <th></th>\n",
       "      <th></th>\n",
       "      <th></th>\n",
       "      <th></th>\n",
       "      <th></th>\n",
       "      <th></th>\n",
       "      <th></th>\n",
       "      <th></th>\n",
       "      <th></th>\n",
       "      <th></th>\n",
       "      <th></th>\n",
       "      <th></th>\n",
       "      <th></th>\n",
       "      <th></th>\n",
       "      <th></th>\n",
       "      <th></th>\n",
       "    </tr>\n",
       "  </thead>\n",
       "  <tbody>\n",
       "    <tr>\n",
       "      <th>bogo</th>\n",
       "      <td>4.0</td>\n",
       "      <td>7.50</td>\n",
       "      <td>2.886751</td>\n",
       "      <td>5.0</td>\n",
       "      <td>7.5</td>\n",
       "      <td>10.0</td>\n",
       "      <td>4.0</td>\n",
       "      <td>6.0</td>\n",
       "      <td>1.154701</td>\n",
       "      <td>5.0</td>\n",
       "      <td>6.0</td>\n",
       "      <td>7.0</td>\n",
       "      <td>4.0</td>\n",
       "      <td>7.5</td>\n",
       "      <td>2.886751</td>\n",
       "      <td>5.0</td>\n",
       "      <td>7.5</td>\n",
       "      <td>10.0</td>\n",
       "    </tr>\n",
       "    <tr>\n",
       "      <th>discount</th>\n",
       "      <td>4.0</td>\n",
       "      <td>11.75</td>\n",
       "      <td>5.678908</td>\n",
       "      <td>7.0</td>\n",
       "      <td>10.0</td>\n",
       "      <td>20.0</td>\n",
       "      <td>4.0</td>\n",
       "      <td>8.5</td>\n",
       "      <td>1.732051</td>\n",
       "      <td>7.0</td>\n",
       "      <td>8.5</td>\n",
       "      <td>10.0</td>\n",
       "      <td>4.0</td>\n",
       "      <td>3.0</td>\n",
       "      <td>1.414214</td>\n",
       "      <td>2.0</td>\n",
       "      <td>2.5</td>\n",
       "      <td>5.0</td>\n",
       "    </tr>\n",
       "    <tr>\n",
       "      <th>informational</th>\n",
       "      <td>2.0</td>\n",
       "      <td>0.00</td>\n",
       "      <td>0.000000</td>\n",
       "      <td>0.0</td>\n",
       "      <td>0.0</td>\n",
       "      <td>0.0</td>\n",
       "      <td>2.0</td>\n",
       "      <td>3.5</td>\n",
       "      <td>0.707107</td>\n",
       "      <td>3.0</td>\n",
       "      <td>3.5</td>\n",
       "      <td>4.0</td>\n",
       "      <td>2.0</td>\n",
       "      <td>0.0</td>\n",
       "      <td>0.000000</td>\n",
       "      <td>0.0</td>\n",
       "      <td>0.0</td>\n",
       "      <td>0.0</td>\n",
       "    </tr>\n",
       "  </tbody>\n",
       "</table>\n",
       "</div>"
      ],
      "text/plain": [
       "              difficulty                                   duration       \\\n",
       "                   count   mean       std  min   50%   max    count mean   \n",
       "offer_type                                                                 \n",
       "bogo                 4.0   7.50  2.886751  5.0   7.5  10.0      4.0  6.0   \n",
       "discount             4.0  11.75  5.678908  7.0  10.0  20.0      4.0  8.5   \n",
       "informational        2.0   0.00  0.000000  0.0   0.0   0.0      2.0  3.5   \n",
       "\n",
       "                                        reward                                 \n",
       "                    std  min  50%   max  count mean       std  min  50%   max  \n",
       "offer_type                                                                     \n",
       "bogo           1.154701  5.0  6.0   7.0    4.0  7.5  2.886751  5.0  7.5  10.0  \n",
       "discount       1.732051  7.0  8.5  10.0    4.0  3.0  1.414214  2.0  2.5   5.0  \n",
       "informational  0.707107  3.0  3.5   4.0    2.0  0.0  0.000000  0.0  0.0   0.0  "
      ]
     },
     "execution_count": 7,
     "metadata": {},
     "output_type": "execute_result"
    }
   ],
   "source": [
    "portfolio.groupby('offer_type').describe(percentiles=[])"
   ]
  },
  {
   "cell_type": "markdown",
   "metadata": {},
   "source": [
    "There are three groups of offer type. Each offer has a very long offer id. For the convenience of interpretation, later i'll have to rename them. Each offer has different channels to spread, influence durations, difficulty and reward. \n",
    "\n",
    "From the describe table above, one can see that the \"bogo\" offers has lower difficulty and higher reward, but shorter duration compared with the \"discount\" offers. Informational offer has no certain difficulty or reward, the duration is smaller than the other two kinds of offers."
   ]
  },
  {
   "cell_type": "code",
   "execution_count": null,
   "metadata": {},
   "outputs": [],
   "source": []
  },
  {
   "cell_type": "markdown",
   "metadata": {},
   "source": [
    "## 1.2 Profile Dataset"
   ]
  },
  {
   "cell_type": "code",
   "execution_count": 8,
   "metadata": {},
   "outputs": [
    {
     "data": {
      "text/plain": [
       "(17000, 5)"
      ]
     },
     "execution_count": 8,
     "metadata": {},
     "output_type": "execute_result"
    }
   ],
   "source": [
    "profile.shape"
   ]
  },
  {
   "cell_type": "code",
   "execution_count": 9,
   "metadata": {},
   "outputs": [
    {
     "data": {
      "text/html": [
       "<div>\n",
       "<style scoped>\n",
       "    .dataframe tbody tr th:only-of-type {\n",
       "        vertical-align: middle;\n",
       "    }\n",
       "\n",
       "    .dataframe tbody tr th {\n",
       "        vertical-align: top;\n",
       "    }\n",
       "\n",
       "    .dataframe thead th {\n",
       "        text-align: right;\n",
       "    }\n",
       "</style>\n",
       "<table border=\"1\" class=\"dataframe\">\n",
       "  <thead>\n",
       "    <tr style=\"text-align: right;\">\n",
       "      <th></th>\n",
       "      <th>age</th>\n",
       "      <th>became_member_on</th>\n",
       "      <th>gender</th>\n",
       "      <th>id</th>\n",
       "      <th>income</th>\n",
       "    </tr>\n",
       "  </thead>\n",
       "  <tbody>\n",
       "    <tr>\n",
       "      <th>0</th>\n",
       "      <td>118</td>\n",
       "      <td>20170212</td>\n",
       "      <td>None</td>\n",
       "      <td>68be06ca386d4c31939f3a4f0e3dd783</td>\n",
       "      <td>NaN</td>\n",
       "    </tr>\n",
       "    <tr>\n",
       "      <th>1</th>\n",
       "      <td>55</td>\n",
       "      <td>20170715</td>\n",
       "      <td>F</td>\n",
       "      <td>0610b486422d4921ae7d2bf64640c50b</td>\n",
       "      <td>112000.0</td>\n",
       "    </tr>\n",
       "    <tr>\n",
       "      <th>2</th>\n",
       "      <td>118</td>\n",
       "      <td>20180712</td>\n",
       "      <td>None</td>\n",
       "      <td>38fe809add3b4fcf9315a9694bb96ff5</td>\n",
       "      <td>NaN</td>\n",
       "    </tr>\n",
       "    <tr>\n",
       "      <th>3</th>\n",
       "      <td>75</td>\n",
       "      <td>20170509</td>\n",
       "      <td>F</td>\n",
       "      <td>78afa995795e4d85b5d9ceeca43f5fef</td>\n",
       "      <td>100000.0</td>\n",
       "    </tr>\n",
       "    <tr>\n",
       "      <th>4</th>\n",
       "      <td>118</td>\n",
       "      <td>20170804</td>\n",
       "      <td>None</td>\n",
       "      <td>a03223e636434f42ac4c3df47e8bac43</td>\n",
       "      <td>NaN</td>\n",
       "    </tr>\n",
       "  </tbody>\n",
       "</table>\n",
       "</div>"
      ],
      "text/plain": [
       "   age  became_member_on gender                                id    income\n",
       "0  118          20170212   None  68be06ca386d4c31939f3a4f0e3dd783       NaN\n",
       "1   55          20170715      F  0610b486422d4921ae7d2bf64640c50b  112000.0\n",
       "2  118          20180712   None  38fe809add3b4fcf9315a9694bb96ff5       NaN\n",
       "3   75          20170509      F  78afa995795e4d85b5d9ceeca43f5fef  100000.0\n",
       "4  118          20170804   None  a03223e636434f42ac4c3df47e8bac43       NaN"
      ]
     },
     "execution_count": 9,
     "metadata": {},
     "output_type": "execute_result"
    }
   ],
   "source": [
    "profile.head(5)"
   ]
  },
  {
   "cell_type": "code",
   "execution_count": 10,
   "metadata": {},
   "outputs": [],
   "source": [
    "profile_clean = profile.copy()"
   ]
  },
  {
   "cell_type": "code",
   "execution_count": 11,
   "metadata": {},
   "outputs": [],
   "source": [
    "profile_clean['became_member_on'] = pd.to_datetime(profile_clean['became_member_on'].astype('str'), format='%Y%m%d')\n",
    "today = datetime.datetime(2020, 4, 23)\n",
    "profile_clean['member_days'] = (today - profile_clean['became_member_on']).dt.days"
   ]
  },
  {
   "cell_type": "code",
   "execution_count": 12,
   "metadata": {},
   "outputs": [
    {
     "data": {
      "text/html": [
       "<div>\n",
       "<style scoped>\n",
       "    .dataframe tbody tr th:only-of-type {\n",
       "        vertical-align: middle;\n",
       "    }\n",
       "\n",
       "    .dataframe tbody tr th {\n",
       "        vertical-align: top;\n",
       "    }\n",
       "\n",
       "    .dataframe thead th {\n",
       "        text-align: right;\n",
       "    }\n",
       "</style>\n",
       "<table border=\"1\" class=\"dataframe\">\n",
       "  <thead>\n",
       "    <tr style=\"text-align: right;\">\n",
       "      <th></th>\n",
       "      <th>age</th>\n",
       "      <th>income</th>\n",
       "      <th>member_days</th>\n",
       "    </tr>\n",
       "  </thead>\n",
       "  <tbody>\n",
       "    <tr>\n",
       "      <th>count</th>\n",
       "      <td>17000.000000</td>\n",
       "      <td>14825.000000</td>\n",
       "      <td>17000.000000</td>\n",
       "    </tr>\n",
       "    <tr>\n",
       "      <th>mean</th>\n",
       "      <td>62.531412</td>\n",
       "      <td>65404.991568</td>\n",
       "      <td>1154.449882</td>\n",
       "    </tr>\n",
       "    <tr>\n",
       "      <th>std</th>\n",
       "      <td>26.738580</td>\n",
       "      <td>21598.299410</td>\n",
       "      <td>411.223904</td>\n",
       "    </tr>\n",
       "    <tr>\n",
       "      <th>min</th>\n",
       "      <td>18.000000</td>\n",
       "      <td>30000.000000</td>\n",
       "      <td>637.000000</td>\n",
       "    </tr>\n",
       "    <tr>\n",
       "      <th>25%</th>\n",
       "      <td>45.000000</td>\n",
       "      <td>49000.000000</td>\n",
       "      <td>845.000000</td>\n",
       "    </tr>\n",
       "    <tr>\n",
       "      <th>50%</th>\n",
       "      <td>58.000000</td>\n",
       "      <td>64000.000000</td>\n",
       "      <td>995.000000</td>\n",
       "    </tr>\n",
       "    <tr>\n",
       "      <th>75%</th>\n",
       "      <td>73.000000</td>\n",
       "      <td>80000.000000</td>\n",
       "      <td>1428.000000</td>\n",
       "    </tr>\n",
       "    <tr>\n",
       "      <th>max</th>\n",
       "      <td>118.000000</td>\n",
       "      <td>120000.000000</td>\n",
       "      <td>2460.000000</td>\n",
       "    </tr>\n",
       "  </tbody>\n",
       "</table>\n",
       "</div>"
      ],
      "text/plain": [
       "                age         income   member_days\n",
       "count  17000.000000   14825.000000  17000.000000\n",
       "mean      62.531412   65404.991568   1154.449882\n",
       "std       26.738580   21598.299410    411.223904\n",
       "min       18.000000   30000.000000    637.000000\n",
       "25%       45.000000   49000.000000    845.000000\n",
       "50%       58.000000   64000.000000    995.000000\n",
       "75%       73.000000   80000.000000   1428.000000\n",
       "max      118.000000  120000.000000   2460.000000"
      ]
     },
     "execution_count": 12,
     "metadata": {},
     "output_type": "execute_result"
    }
   ],
   "source": [
    "profile_clean.describe()"
   ]
  },
  {
   "cell_type": "code",
   "execution_count": 13,
   "metadata": {},
   "outputs": [
    {
     "data": {
      "text/plain": [
       "M    8484\n",
       "F    6129\n",
       "O     212\n",
       "Name: gender, dtype: int64"
      ]
     },
     "execution_count": 13,
     "metadata": {},
     "output_type": "execute_result"
    }
   ],
   "source": [
    "profile['gender'].value_counts()"
   ]
  },
  {
   "cell_type": "markdown",
   "metadata": {},
   "source": [
    "I notice there are a few abnormalities (age 118) and some missing data. I hope they are not a big percentage in my dataset. And it is very strange to see our third quartile of age is 73. Maybe this has something to do with our age abnormalities. I will look at this describe table again after i remove the abnormalities."
   ]
  },
  {
   "cell_type": "code",
   "execution_count": 14,
   "metadata": {},
   "outputs": [
    {
     "data": {
      "text/plain": [
       "age                    0\n",
       "became_member_on       0\n",
       "gender              2175\n",
       "id                     0\n",
       "income              2175\n",
       "dtype: int64"
      ]
     },
     "execution_count": 14,
     "metadata": {},
     "output_type": "execute_result"
    }
   ],
   "source": [
    "np.sum(profile.isnull())"
   ]
  },
  {
   "cell_type": "code",
   "execution_count": 15,
   "metadata": {},
   "outputs": [
    {
     "data": {
      "text/plain": [
       "age                 0.000000\n",
       "became_member_on    0.000000\n",
       "gender              0.127941\n",
       "id                  0.000000\n",
       "income              0.127941\n",
       "dtype: float64"
      ]
     },
     "execution_count": 15,
     "metadata": {},
     "output_type": "execute_result"
    }
   ],
   "source": [
    "np.sum(profile.isnull())/profile.shape[0]"
   ]
  },
  {
   "cell_type": "code",
   "execution_count": 16,
   "metadata": {},
   "outputs": [
    {
     "data": {
      "image/png": "[encoded data removed]",
      "text/plain": [
       "<matplotlib.figure.Figure at 0x7f6ad8c14c88>"
      ]
     },
     "metadata": {
      "needs_background": "light"
     },
     "output_type": "display_data"
    }
   ],
   "source": [
    "ax = profile['age'].hist()\n",
    "ax.set_xlabel(\"age\")\n",
    "ax.set_ylabel(\"counts\");"
   ]
  },
  {
   "cell_type": "code",
   "execution_count": 17,
   "metadata": {},
   "outputs": [
    {
     "data": {
      "text/plain": [
       "2175"
      ]
     },
     "execution_count": 17,
     "metadata": {},
     "output_type": "execute_result"
    }
   ],
   "source": [
    "np.sum(profile['age'] == 118)"
   ]
  },
  {
   "cell_type": "code",
   "execution_count": 18,
   "metadata": {},
   "outputs": [],
   "source": [
    "age_mask = profile['age'] == 118\n",
    "gender_mask = profile['gender'].isnull()\n",
    "income_mask = profile['income'].isnull()"
   ]
  },
  {
   "cell_type": "code",
   "execution_count": 19,
   "metadata": {},
   "outputs": [
    {
     "data": {
      "text/plain": [
       "(2175, 5)"
      ]
     },
     "execution_count": 19,
     "metadata": {},
     "output_type": "execute_result"
    }
   ],
   "source": [
    "profile[age_mask & gender_mask & income_mask].shape"
   ]
  },
  {
   "cell_type": "code",
   "execution_count": 20,
   "metadata": {},
   "outputs": [],
   "source": [
    "profile_clean = profile_clean.dropna()"
   ]
  },
  {
   "cell_type": "code",
   "execution_count": 21,
   "metadata": {},
   "outputs": [
    {
     "data": {
      "text/plain": [
       "(14825, 6)"
      ]
     },
     "execution_count": 21,
     "metadata": {},
     "output_type": "execute_result"
    }
   ],
   "source": [
    "profile_clean.shape"
   ]
  },
  {
   "cell_type": "code",
   "execution_count": 22,
   "metadata": {},
   "outputs": [
    {
     "data": {
      "text/html": [
       "<div>\n",
       "<style scoped>\n",
       "    .dataframe tbody tr th:only-of-type {\n",
       "        vertical-align: middle;\n",
       "    }\n",
       "\n",
       "    .dataframe tbody tr th {\n",
       "        vertical-align: top;\n",
       "    }\n",
       "\n",
       "    .dataframe thead th {\n",
       "        text-align: right;\n",
       "    }\n",
       "</style>\n",
       "<table border=\"1\" class=\"dataframe\">\n",
       "  <thead>\n",
       "    <tr style=\"text-align: right;\">\n",
       "      <th></th>\n",
       "      <th>age</th>\n",
       "      <th>income</th>\n",
       "      <th>member_days</th>\n",
       "    </tr>\n",
       "  </thead>\n",
       "  <tbody>\n",
       "    <tr>\n",
       "      <th>count</th>\n",
       "      <td>14825.000000</td>\n",
       "      <td>14825.000000</td>\n",
       "      <td>14825.000000</td>\n",
       "    </tr>\n",
       "    <tr>\n",
       "      <th>mean</th>\n",
       "      <td>54.393524</td>\n",
       "      <td>65404.991568</td>\n",
       "      <td>1159.478988</td>\n",
       "    </tr>\n",
       "    <tr>\n",
       "      <th>std</th>\n",
       "      <td>17.383705</td>\n",
       "      <td>21598.299410</td>\n",
       "      <td>419.205158</td>\n",
       "    </tr>\n",
       "    <tr>\n",
       "      <th>min</th>\n",
       "      <td>18.000000</td>\n",
       "      <td>30000.000000</td>\n",
       "      <td>637.000000</td>\n",
       "    </tr>\n",
       "    <tr>\n",
       "      <th>25%</th>\n",
       "      <td>42.000000</td>\n",
       "      <td>49000.000000</td>\n",
       "      <td>845.000000</td>\n",
       "    </tr>\n",
       "    <tr>\n",
       "      <th>50%</th>\n",
       "      <td>55.000000</td>\n",
       "      <td>64000.000000</td>\n",
       "      <td>995.000000</td>\n",
       "    </tr>\n",
       "    <tr>\n",
       "      <th>75%</th>\n",
       "      <td>66.000000</td>\n",
       "      <td>80000.000000</td>\n",
       "      <td>1434.000000</td>\n",
       "    </tr>\n",
       "    <tr>\n",
       "      <th>max</th>\n",
       "      <td>101.000000</td>\n",
       "      <td>120000.000000</td>\n",
       "      <td>2460.000000</td>\n",
       "    </tr>\n",
       "  </tbody>\n",
       "</table>\n",
       "</div>"
      ],
      "text/plain": [
       "                age         income   member_days\n",
       "count  14825.000000   14825.000000  14825.000000\n",
       "mean      54.393524   65404.991568   1159.478988\n",
       "std       17.383705   21598.299410    419.205158\n",
       "min       18.000000   30000.000000    637.000000\n",
       "25%       42.000000   49000.000000    845.000000\n",
       "50%       55.000000   64000.000000    995.000000\n",
       "75%       66.000000   80000.000000   1434.000000\n",
       "max      101.000000  120000.000000   2460.000000"
      ]
     },
     "execution_count": 22,
     "metadata": {},
     "output_type": "execute_result"
    }
   ],
   "source": [
    "profile_clean.describe()"
   ]
  },
  {
   "cell_type": "code",
   "execution_count": 23,
   "metadata": {},
   "outputs": [
    {
     "data": {
      "image/png": "[encoded data removed]",
      "text/plain": [
       "<matplotlib.figure.Figure at 0x7f6ad8a85860>"
      ]
     },
     "metadata": {
      "needs_background": "light"
     },
     "output_type": "display_data"
    }
   ],
   "source": [
    "profile_clean.hist();"
   ]
  },
  {
   "cell_type": "code",
   "execution_count": 24,
   "metadata": {},
   "outputs": [
    {
     "data": {
      "image/png": "[encoded data removed]",
      "text/plain": [
       "<matplotlib.figure.Figure at 0x7f6ad8a2f8d0>"
      ]
     },
     "metadata": {},
     "output_type": "display_data"
    }
   ],
   "source": [
    "profile_clean['gender'].value_counts().plot.pie(explode = (0.05, 0.05, 0.05), autopct='%1.1f%%', shadow=True);"
   ]
  },
  {
   "cell_type": "markdown",
   "metadata": {},
   "source": [
    "The distribution of age is most close to normalized distribution, the income and days since a member are all a bit skewed. \n",
    "\n",
    "The gender piechart shows that the male-female ratio is neutral (close to 50%).\n",
    "\n",
    "Draw correlation chart to see if these features are related. The member_days are not related with age or income, age and income are a bit correlated, with is understandable, but the value is not very high (0.31)."
   ]
  },
  {
   "cell_type": "code",
   "execution_count": 25,
   "metadata": {},
   "outputs": [
    {
     "data": {
      "image/png": "[encoded data removed]",
      "text/plain": [
       "<matplotlib.figure.Figure at 0x7f6ad8a2f390>"
      ]
     },
     "metadata": {
      "needs_background": "light"
     },
     "output_type": "display_data"
    }
   ],
   "source": [
    "sns.heatmap(profile_clean.corr(), annot=True, fmt='.2f');"
   ]
  },
  {
   "cell_type": "code",
   "execution_count": null,
   "metadata": {},
   "outputs": [],
   "source": []
  },
  {
   "cell_type": "markdown",
   "metadata": {},
   "source": [
    "## 1.3 Transcript Dataset"
   ]
  },
  {
   "cell_type": "code",
   "execution_count": 26,
   "metadata": {},
   "outputs": [
    {
     "data": {
      "text/plain": [
       "(306534, 4)"
      ]
     },
     "execution_count": 26,
     "metadata": {},
     "output_type": "execute_result"
    }
   ],
   "source": [
    "transcript.shape"
   ]
  },
  {
   "cell_type": "code",
   "execution_count": 27,
   "metadata": {},
   "outputs": [
    {
     "data": {
      "text/html": [
       "<div>\n",
       "<style scoped>\n",
       "    .dataframe tbody tr th:only-of-type {\n",
       "        vertical-align: middle;\n",
       "    }\n",
       "\n",
       "    .dataframe tbody tr th {\n",
       "        vertical-align: top;\n",
       "    }\n",
       "\n",
       "    .dataframe thead th {\n",
       "        text-align: right;\n",
       "    }\n",
       "</style>\n",
       "<table border=\"1\" class=\"dataframe\">\n",
       "  <thead>\n",
       "    <tr style=\"text-align: right;\">\n",
       "      <th></th>\n",
       "      <th>event</th>\n",
       "      <th>person</th>\n",
       "      <th>time</th>\n",
       "      <th>value</th>\n",
       "    </tr>\n",
       "  </thead>\n",
       "  <tbody>\n",
       "    <tr>\n",
       "      <th>0</th>\n",
       "      <td>offer received</td>\n",
       "      <td>78afa995795e4d85b5d9ceeca43f5fef</td>\n",
       "      <td>0</td>\n",
       "      <td>{'offer id': '9b98b8c7a33c4b65b9aebfe6a799e6d9'}</td>\n",
       "    </tr>\n",
       "    <tr>\n",
       "      <th>1</th>\n",
       "      <td>offer received</td>\n",
       "      <td>a03223e636434f42ac4c3df47e8bac43</td>\n",
       "      <td>0</td>\n",
       "      <td>{'offer id': '0b1e1539f2cc45b7b9fa7c272da2e1d7'}</td>\n",
       "    </tr>\n",
       "    <tr>\n",
       "      <th>2</th>\n",
       "      <td>offer received</td>\n",
       "      <td>e2127556f4f64592b11af22de27a7932</td>\n",
       "      <td>0</td>\n",
       "      <td>{'offer id': '2906b810c7d4411798c6938adc9daaa5'}</td>\n",
       "    </tr>\n",
       "    <tr>\n",
       "      <th>3</th>\n",
       "      <td>offer received</td>\n",
       "      <td>8ec6ce2a7e7949b1bf142def7d0e0586</td>\n",
       "      <td>0</td>\n",
       "      <td>{'offer id': 'fafdcd668e3743c1bb461111dcafc2a4'}</td>\n",
       "    </tr>\n",
       "    <tr>\n",
       "      <th>4</th>\n",
       "      <td>offer received</td>\n",
       "      <td>68617ca6246f4fbc85e91a2a49552598</td>\n",
       "      <td>0</td>\n",
       "      <td>{'offer id': '4d5c57ea9a6940dd891ad53e9dbe8da0'}</td>\n",
       "    </tr>\n",
       "  </tbody>\n",
       "</table>\n",
       "</div>"
      ],
      "text/plain": [
       "            event                            person  time  \\\n",
       "0  offer received  78afa995795e4d85b5d9ceeca43f5fef     0   \n",
       "1  offer received  a03223e636434f42ac4c3df47e8bac43     0   \n",
       "2  offer received  e2127556f4f64592b11af22de27a7932     0   \n",
       "3  offer received  8ec6ce2a7e7949b1bf142def7d0e0586     0   \n",
       "4  offer received  68617ca6246f4fbc85e91a2a49552598     0   \n",
       "\n",
       "                                              value  \n",
       "0  {'offer id': '9b98b8c7a33c4b65b9aebfe6a799e6d9'}  \n",
       "1  {'offer id': '0b1e1539f2cc45b7b9fa7c272da2e1d7'}  \n",
       "2  {'offer id': '2906b810c7d4411798c6938adc9daaa5'}  \n",
       "3  {'offer id': 'fafdcd668e3743c1bb461111dcafc2a4'}  \n",
       "4  {'offer id': '4d5c57ea9a6940dd891ad53e9dbe8da0'}  "
      ]
     },
     "execution_count": 27,
     "metadata": {},
     "output_type": "execute_result"
    }
   ],
   "source": [
    "transcript.head(5)"
   ]
  },
  {
   "cell_type": "code",
   "execution_count": 28,
   "metadata": {},
   "outputs": [
    {
     "data": {
      "text/html": [
       "<div>\n",
       "<style scoped>\n",
       "    .dataframe tbody tr th:only-of-type {\n",
       "        vertical-align: middle;\n",
       "    }\n",
       "\n",
       "    .dataframe tbody tr th {\n",
       "        vertical-align: top;\n",
       "    }\n",
       "\n",
       "    .dataframe thead th {\n",
       "        text-align: right;\n",
       "    }\n",
       "</style>\n",
       "<table border=\"1\" class=\"dataframe\">\n",
       "  <thead>\n",
       "    <tr style=\"text-align: right;\">\n",
       "      <th></th>\n",
       "      <th>time</th>\n",
       "    </tr>\n",
       "  </thead>\n",
       "  <tbody>\n",
       "    <tr>\n",
       "      <th>count</th>\n",
       "      <td>306534.000000</td>\n",
       "    </tr>\n",
       "    <tr>\n",
       "      <th>mean</th>\n",
       "      <td>366.382940</td>\n",
       "    </tr>\n",
       "    <tr>\n",
       "      <th>std</th>\n",
       "      <td>200.326314</td>\n",
       "    </tr>\n",
       "    <tr>\n",
       "      <th>min</th>\n",
       "      <td>0.000000</td>\n",
       "    </tr>\n",
       "    <tr>\n",
       "      <th>25%</th>\n",
       "      <td>186.000000</td>\n",
       "    </tr>\n",
       "    <tr>\n",
       "      <th>50%</th>\n",
       "      <td>408.000000</td>\n",
       "    </tr>\n",
       "    <tr>\n",
       "      <th>75%</th>\n",
       "      <td>528.000000</td>\n",
       "    </tr>\n",
       "    <tr>\n",
       "      <th>max</th>\n",
       "      <td>714.000000</td>\n",
       "    </tr>\n",
       "  </tbody>\n",
       "</table>\n",
       "</div>"
      ],
      "text/plain": [
       "                time\n",
       "count  306534.000000\n",
       "mean      366.382940\n",
       "std       200.326314\n",
       "min         0.000000\n",
       "25%       186.000000\n",
       "50%       408.000000\n",
       "75%       528.000000\n",
       "max       714.000000"
      ]
     },
     "execution_count": 28,
     "metadata": {},
     "output_type": "execute_result"
    }
   ],
   "source": [
    "transcript.describe()"
   ]
  },
  {
   "cell_type": "code",
   "execution_count": 29,
   "metadata": {},
   "outputs": [
    {
     "data": {
      "text/plain": [
       "event     0\n",
       "person    0\n",
       "time      0\n",
       "value     0\n",
       "dtype: int64"
      ]
     },
     "execution_count": 29,
     "metadata": {},
     "output_type": "execute_result"
    }
   ],
   "source": [
    "np.sum(transcript.isnull())"
   ]
  },
  {
   "cell_type": "code",
   "execution_count": 30,
   "metadata": {},
   "outputs": [
    {
     "data": {
      "text/plain": [
       "transaction        138953\n",
       "offer received      76277\n",
       "offer viewed        57725\n",
       "offer completed     33579\n",
       "Name: event, dtype: int64"
      ]
     },
     "execution_count": 30,
     "metadata": {},
     "output_type": "execute_result"
    }
   ],
   "source": [
    "transcript['event'].value_counts()"
   ]
  },
  {
   "cell_type": "code",
   "execution_count": 31,
   "metadata": {},
   "outputs": [
    {
     "data": {
      "text/plain": [
       "array([138953,  76277,  57725,  33579])"
      ]
     },
     "execution_count": 31,
     "metadata": {},
     "output_type": "execute_result"
    }
   ],
   "source": [
    "transcript['event'].value_counts().values"
   ]
  },
  {
   "cell_type": "code",
   "execution_count": 32,
   "metadata": {},
   "outputs": [
    {
     "data": {
      "text/plain": [
       "<matplotlib.axes._subplots.AxesSubplot at 0x7f6ad331fa90>"
      ]
     },
     "execution_count": 32,
     "metadata": {},
     "output_type": "execute_result"
    },
    {
     "data": {
      "image/png": "[encoded data removed]",
      "text/plain": [
       "<matplotlib.figure.Figure at 0x7f6ad8a219b0>"
      ]
     },
     "metadata": {},
     "output_type": "display_data"
    }
   ],
   "source": [
    "transcript['event'].value_counts().plot.pie(explode = (0.05, 0.05, 0.05, 0.05), autopct='%1.1f%%', shadow=True)"
   ]
  },
  {
   "cell_type": "markdown",
   "metadata": {},
   "source": [
    "**Are the offers equaly sent?**\n",
    "\n",
    "I plot the amount of offer sent for each offer type (as follows). Each offer has been sent in similar times. "
   ]
  },
  {
   "cell_type": "code",
   "execution_count": 33,
   "metadata": {
    "collapsed": true
   },
   "outputs": [
    {
     "data": {
      "text/plain": [
       "{'offer id': '2298d6c36e964ae4a3e7e9706d1fb8c2'}                  14983\n",
       "{'offer id': 'fafdcd668e3743c1bb461111dcafc2a4'}                  14924\n",
       "{'offer id': '4d5c57ea9a6940dd891ad53e9dbe8da0'}                  14891\n",
       "{'offer id': 'f19421c1d4aa40978ebb69ca19b0e20d'}                  14835\n",
       "{'offer id': 'ae264e3637204a6fb9bb56bc8210ddfd'}                  14374\n",
       "{'offer id': '5a8bc65990b245e5a138643cd4eb9837'}                  14305\n",
       "{'offer id': '9b98b8c7a33c4b65b9aebfe6a799e6d9'}                  11848\n",
       "{'offer id': '3f207df678b143eea3cee63160fa8bed'}                  11761\n",
       "{'offer id': '2906b810c7d4411798c6938adc9daaa5'}                  11750\n",
       "{'offer id': '0b1e1539f2cc45b7b9fa7c272da2e1d7'}                  10331\n",
       "{'offer_id': 'fafdcd668e3743c1bb461111dcafc2a4', 'reward': 2}      5317\n",
       "{'offer_id': '2298d6c36e964ae4a3e7e9706d1fb8c2', 'reward': 3}      5156\n",
       "{'offer_id': '9b98b8c7a33c4b65b9aebfe6a799e6d9', 'reward': 5}      4354\n",
       "{'offer_id': 'f19421c1d4aa40978ebb69ca19b0e20d', 'reward': 5}      4296\n",
       "{'offer_id': '2906b810c7d4411798c6938adc9daaa5', 'reward': 2}      4017\n",
       "{'offer_id': 'ae264e3637204a6fb9bb56bc8210ddfd', 'reward': 10}     3688\n",
       "{'offer_id': '0b1e1539f2cc45b7b9fa7c272da2e1d7', 'reward': 5}      3420\n",
       "{'offer_id': '4d5c57ea9a6940dd891ad53e9dbe8da0', 'reward': 10}     3331\n",
       "{'amount': 0.05}                                                    431\n",
       "{'amount': 0.66}                                                    166\n",
       "{'amount': 1.18}                                                    165\n",
       "{'amount': 1.01}                                                    163\n",
       "{'amount': 1.23}                                                    161\n",
       "{'amount': 0.9}                                                     161\n",
       "{'amount': 0.53}                                                    159\n",
       "{'amount': 0.5}                                                     159\n",
       "{'amount': 1.19}                                                    159\n",
       "{'amount': 0.79}                                                    157\n",
       "{'amount': 1.5}                                                     156\n",
       "{'amount': 0.92}                                                    156\n",
       "                                                                  ...  \n",
       "{'amount': 49.73}                                                     1\n",
       "{'amount': 749.29}                                                    1\n",
       "{'amount': 83.03}                                                     1\n",
       "{'amount': 51.06}                                                     1\n",
       "{'amount': 53.4}                                                      1\n",
       "{'amount': 47.2}                                                      1\n",
       "{'amount': 1015.73}                                                   1\n",
       "{'amount': 40.83}                                                     1\n",
       "{'amount': 54.44}                                                     1\n",
       "{'amount': 39.82}                                                     1\n",
       "{'amount': 456.79}                                                    1\n",
       "{'amount': 49.82}                                                     1\n",
       "{'amount': 41.61}                                                     1\n",
       "{'amount': 619.63}                                                    1\n",
       "{'amount': 50.37}                                                     1\n",
       "{'amount': 45.76}                                                     1\n",
       "{'amount': 36.99}                                                     1\n",
       "{'amount': 773.21}                                                    1\n",
       "{'amount': 577.21}                                                    1\n",
       "{'amount': 37.3}                                                      1\n",
       "{'amount': 792.54}                                                    1\n",
       "{'amount': 49.38}                                                     1\n",
       "{'amount': 769.04}                                                    1\n",
       "{'amount': 384.03}                                                    1\n",
       "{'amount': 493.4}                                                     1\n",
       "{'amount': 439.14}                                                    1\n",
       "{'amount': 42.75}                                                     1\n",
       "{'amount': 650.75}                                                    1\n",
       "{'amount': 943.4}                                                     1\n",
       "{'amount': 44.21}                                                     1\n",
       "Name: value, Length: 5121, dtype: int64"
      ]
     },
     "execution_count": 33,
     "metadata": {},
     "output_type": "execute_result"
    }
   ],
   "source": [
    "# Let's have a look at the values\n",
    "# this step runs too long\n",
    "transcript['value'].value_counts()"
   ]
  },
  {
   "cell_type": "markdown",
   "metadata": {},
   "source": [
    "There are a big variance on the column \"value\", mainly due to different size of the transaction. And column \"value\" is dependent on type of \"event\". "
   ]
  },
  {
   "cell_type": "code",
   "execution_count": 34,
   "metadata": {},
   "outputs": [
    {
     "data": {
      "image/png": "[encoded data removed]",
      "text/plain": [
       "<matplotlib.figure.Figure at 0x7f6ad8a854e0>"
      ]
     },
     "metadata": {
      "needs_background": "light"
     },
     "output_type": "display_data"
    }
   ],
   "source": [
    "ax = transcript['time'].plot()\n",
    "ax.set_xlabel(\"counts\")\n",
    "ax.set_ylabel(\"time\");"
   ]
  },
  {
   "cell_type": "markdown",
   "metadata": {},
   "source": [
    "By plotting the column \"time\", we can see that the transcript dataset is orgnized according to the increasing of time. While maximum of time is 714 hours, it gives us the time window of 30 days (714/24) of this observation. \n",
    "\n",
    "I want to have a look how the company is sending the promotion infos, mainly the frequency, do they send it every hour, or every few days?"
   ]
  },
  {
   "cell_type": "code",
   "execution_count": 36,
   "metadata": {},
   "outputs": [
    {
     "name": "stdout",
     "output_type": "stream",
     "text": [
      "0      12650\n",
      "168    12669\n",
      "336    12711\n",
      "408    12778\n",
      "504    12704\n",
      "576    12765\n",
      "Name: time, dtype: int64\n"
     ]
    }
   ],
   "source": [
    "ser_sending = transcript[transcript['event'] == 'offer received']['time'].value_counts().sort_index()\n",
    "print(ser_sending)"
   ]
  },
  {
   "cell_type": "markdown",
   "metadata": {},
   "source": [
    "Good. Now we can see, that Starbuck has send 6 times the promotions. Each time around 12K sendings, but not in a constant period. I would like to same this sending event as a dataframe."
   ]
  },
  {
   "cell_type": "code",
   "execution_count": 37,
   "metadata": {},
   "outputs": [
    {
     "name": "stdout",
     "output_type": "stream",
     "text": [
      "   sent_time  sent_cnt\n",
      "0          0     12650\n",
      "1        168     12669\n",
      "2        336     12711\n",
      "3        408     12778\n",
      "4        504     12704\n",
      "5        576     12765\n"
     ]
    }
   ],
   "source": [
    "df_sending = ser_sending.reset_index() \n",
    "df_sending.columns = ['sent_time','sent_cnt']\n",
    "print(df_sending)"
   ]
  },
  {
   "cell_type": "markdown",
   "metadata": {},
   "source": [
    "I'm also curious about to each customer get how many times of promotion messages."
   ]
  },
  {
   "cell_type": "code",
   "execution_count": 38,
   "metadata": {},
   "outputs": [],
   "source": [
    "ser_sendto = transcript[transcript['event'] == 'offer received'].groupby('person')['event'].value_counts()"
   ]
  },
  {
   "cell_type": "code",
   "execution_count": 39,
   "metadata": {},
   "outputs": [
    {
     "data": {
      "text/plain": [
       "count    16994.000000\n",
       "mean         4.488467\n",
       "std          1.073047\n",
       "min          1.000000\n",
       "25%          4.000000\n",
       "50%          5.000000\n",
       "75%          5.000000\n",
       "max          6.000000\n",
       "Name: event, dtype: float64"
      ]
     },
     "execution_count": 39,
     "metadata": {},
     "output_type": "execute_result"
    }
   ],
   "source": [
    "ser_sendto.describe()"
   ]
  },
  {
   "cell_type": "code",
   "execution_count": 40,
   "metadata": {},
   "outputs": [
    {
     "data": {
      "text/plain": [
       "<matplotlib.axes._subplots.AxesSubplot at 0x7ffb5efaed30>"
      ]
     },
     "execution_count": 40,
     "metadata": {},
     "output_type": "execute_result"
    },
    {
     "data": {
      "image/png": "[encoded data removed]",
      "text/plain": [
       "<matplotlib.figure.Figure at 0x7ffb5efdd630>"
      ]
     },
     "metadata": {
      "needs_background": "light"
     },
     "output_type": "display_data"
    }
   ],
   "source": [
    "ser_sendto.hist()"
   ]
  },
  {
   "cell_type": "markdown",
   "metadata": {},
   "source": [
    "So each person get a maximum 6 and minimum 1 promotions. But the count of people who received promotions is 16994, smaller than our profile data dimension (17000), seems like there are a few people in our profile dataset didn't get any promotion data. These profile data will not be included in our final dataset.\n",
    "\n",
    "At last, I want to look at the relationship between event, value and time for one customer. I'll try to pick one or few customer that can represent common scenarios. In the next section, i will combine the observations from three datasets and define problem to solve."
   ]
  },
  {
   "cell_type": "code",
   "execution_count": 41,
   "metadata": {},
   "outputs": [
    {
     "data": {
      "text/html": [
       "<div>\n",
       "<style scoped>\n",
       "    .dataframe tbody tr th:only-of-type {\n",
       "        vertical-align: middle;\n",
       "    }\n",
       "\n",
       "    .dataframe tbody tr th {\n",
       "        vertical-align: top;\n",
       "    }\n",
       "\n",
       "    .dataframe thead th {\n",
       "        text-align: right;\n",
       "    }\n",
       "</style>\n",
       "<table border=\"1\" class=\"dataframe\">\n",
       "  <thead>\n",
       "    <tr style=\"text-align: right;\">\n",
       "      <th></th>\n",
       "      <th>event</th>\n",
       "      <th>person</th>\n",
       "      <th>time</th>\n",
       "      <th>value</th>\n",
       "    </tr>\n",
       "  </thead>\n",
       "  <tbody>\n",
       "    <tr>\n",
       "      <th>0</th>\n",
       "      <td>offer received</td>\n",
       "      <td>78afa995795e4d85b5d9ceeca43f5fef</td>\n",
       "      <td>0</td>\n",
       "      <td>{'offer id': '9b98b8c7a33c4b65b9aebfe6a799e6d9'}</td>\n",
       "    </tr>\n",
       "    <tr>\n",
       "      <th>15561</th>\n",
       "      <td>offer viewed</td>\n",
       "      <td>78afa995795e4d85b5d9ceeca43f5fef</td>\n",
       "      <td>6</td>\n",
       "      <td>{'offer id': '9b98b8c7a33c4b65b9aebfe6a799e6d9'}</td>\n",
       "    </tr>\n",
       "    <tr>\n",
       "      <th>47582</th>\n",
       "      <td>transaction</td>\n",
       "      <td>78afa995795e4d85b5d9ceeca43f5fef</td>\n",
       "      <td>132</td>\n",
       "      <td>{'amount': 19.89}</td>\n",
       "    </tr>\n",
       "    <tr>\n",
       "      <th>47583</th>\n",
       "      <td>offer completed</td>\n",
       "      <td>78afa995795e4d85b5d9ceeca43f5fef</td>\n",
       "      <td>132</td>\n",
       "      <td>{'offer_id': '9b98b8c7a33c4b65b9aebfe6a799e6d9...</td>\n",
       "    </tr>\n",
       "    <tr>\n",
       "      <th>49502</th>\n",
       "      <td>transaction</td>\n",
       "      <td>78afa995795e4d85b5d9ceeca43f5fef</td>\n",
       "      <td>144</td>\n",
       "      <td>{'amount': 17.78}</td>\n",
       "    </tr>\n",
       "    <tr>\n",
       "      <th>53176</th>\n",
       "      <td>offer received</td>\n",
       "      <td>78afa995795e4d85b5d9ceeca43f5fef</td>\n",
       "      <td>168</td>\n",
       "      <td>{'offer id': '5a8bc65990b245e5a138643cd4eb9837'}</td>\n",
       "    </tr>\n",
       "    <tr>\n",
       "      <th>85291</th>\n",
       "      <td>offer viewed</td>\n",
       "      <td>78afa995795e4d85b5d9ceeca43f5fef</td>\n",
       "      <td>216</td>\n",
       "      <td>{'offer id': '5a8bc65990b245e5a138643cd4eb9837'}</td>\n",
       "    </tr>\n",
       "    <tr>\n",
       "      <th>87134</th>\n",
       "      <td>transaction</td>\n",
       "      <td>78afa995795e4d85b5d9ceeca43f5fef</td>\n",
       "      <td>222</td>\n",
       "      <td>{'amount': 19.67}</td>\n",
       "    </tr>\n",
       "    <tr>\n",
       "      <th>92104</th>\n",
       "      <td>transaction</td>\n",
       "      <td>78afa995795e4d85b5d9ceeca43f5fef</td>\n",
       "      <td>240</td>\n",
       "      <td>{'amount': 29.72}</td>\n",
       "    </tr>\n",
       "    <tr>\n",
       "      <th>141566</th>\n",
       "      <td>transaction</td>\n",
       "      <td>78afa995795e4d85b5d9ceeca43f5fef</td>\n",
       "      <td>378</td>\n",
       "      <td>{'amount': 23.93}</td>\n",
       "    </tr>\n",
       "    <tr>\n",
       "      <th>150598</th>\n",
       "      <td>offer received</td>\n",
       "      <td>78afa995795e4d85b5d9ceeca43f5fef</td>\n",
       "      <td>408</td>\n",
       "      <td>{'offer id': 'ae264e3637204a6fb9bb56bc8210ddfd'}</td>\n",
       "    </tr>\n",
       "    <tr>\n",
       "      <th>163375</th>\n",
       "      <td>offer viewed</td>\n",
       "      <td>78afa995795e4d85b5d9ceeca43f5fef</td>\n",
       "      <td>408</td>\n",
       "      <td>{'offer id': 'ae264e3637204a6fb9bb56bc8210ddfd'}</td>\n",
       "    </tr>\n",
       "    <tr>\n",
       "      <th>201572</th>\n",
       "      <td>offer received</td>\n",
       "      <td>78afa995795e4d85b5d9ceeca43f5fef</td>\n",
       "      <td>504</td>\n",
       "      <td>{'offer id': 'f19421c1d4aa40978ebb69ca19b0e20d'}</td>\n",
       "    </tr>\n",
       "    <tr>\n",
       "      <th>218393</th>\n",
       "      <td>transaction</td>\n",
       "      <td>78afa995795e4d85b5d9ceeca43f5fef</td>\n",
       "      <td>510</td>\n",
       "      <td>{'amount': 21.72}</td>\n",
       "    </tr>\n",
       "    <tr>\n",
       "      <th>218394</th>\n",
       "      <td>offer completed</td>\n",
       "      <td>78afa995795e4d85b5d9ceeca43f5fef</td>\n",
       "      <td>510</td>\n",
       "      <td>{'offer_id': 'ae264e3637204a6fb9bb56bc8210ddfd...</td>\n",
       "    </tr>\n",
       "    <tr>\n",
       "      <th>218395</th>\n",
       "      <td>offer completed</td>\n",
       "      <td>78afa995795e4d85b5d9ceeca43f5fef</td>\n",
       "      <td>510</td>\n",
       "      <td>{'offer_id': 'f19421c1d4aa40978ebb69ca19b0e20d...</td>\n",
       "    </tr>\n",
       "    <tr>\n",
       "      <th>230412</th>\n",
       "      <td>transaction</td>\n",
       "      <td>78afa995795e4d85b5d9ceeca43f5fef</td>\n",
       "      <td>534</td>\n",
       "      <td>{'amount': 26.56}</td>\n",
       "    </tr>\n",
       "    <tr>\n",
       "      <th>262138</th>\n",
       "      <td>offer viewed</td>\n",
       "      <td>78afa995795e4d85b5d9ceeca43f5fef</td>\n",
       "      <td>582</td>\n",
       "      <td>{'offer id': 'f19421c1d4aa40978ebb69ca19b0e20d'}</td>\n",
       "    </tr>\n",
       "  </tbody>\n",
       "</table>\n",
       "</div>"
      ],
      "text/plain": [
       "                  event                            person  time  \\\n",
       "0        offer received  78afa995795e4d85b5d9ceeca43f5fef     0   \n",
       "15561      offer viewed  78afa995795e4d85b5d9ceeca43f5fef     6   \n",
       "47582       transaction  78afa995795e4d85b5d9ceeca43f5fef   132   \n",
       "47583   offer completed  78afa995795e4d85b5d9ceeca43f5fef   132   \n",
       "49502       transaction  78afa995795e4d85b5d9ceeca43f5fef   144   \n",
       "53176    offer received  78afa995795e4d85b5d9ceeca43f5fef   168   \n",
       "85291      offer viewed  78afa995795e4d85b5d9ceeca43f5fef   216   \n",
       "87134       transaction  78afa995795e4d85b5d9ceeca43f5fef   222   \n",
       "92104       transaction  78afa995795e4d85b5d9ceeca43f5fef   240   \n",
       "141566      transaction  78afa995795e4d85b5d9ceeca43f5fef   378   \n",
       "150598   offer received  78afa995795e4d85b5d9ceeca43f5fef   408   \n",
       "163375     offer viewed  78afa995795e4d85b5d9ceeca43f5fef   408   \n",
       "201572   offer received  78afa995795e4d85b5d9ceeca43f5fef   504   \n",
       "218393      transaction  78afa995795e4d85b5d9ceeca43f5fef   510   \n",
       "218394  offer completed  78afa995795e4d85b5d9ceeca43f5fef   510   \n",
       "218395  offer completed  78afa995795e4d85b5d9ceeca43f5fef   510   \n",
       "230412      transaction  78afa995795e4d85b5d9ceeca43f5fef   534   \n",
       "262138     offer viewed  78afa995795e4d85b5d9ceeca43f5fef   582   \n",
       "\n",
       "                                                    value  \n",
       "0        {'offer id': '9b98b8c7a33c4b65b9aebfe6a799e6d9'}  \n",
       "15561    {'offer id': '9b98b8c7a33c4b65b9aebfe6a799e6d9'}  \n",
       "47582                                   {'amount': 19.89}  \n",
       "47583   {'offer_id': '9b98b8c7a33c4b65b9aebfe6a799e6d9...  \n",
       "49502                                   {'amount': 17.78}  \n",
       "53176    {'offer id': '5a8bc65990b245e5a138643cd4eb9837'}  \n",
       "85291    {'offer id': '5a8bc65990b245e5a138643cd4eb9837'}  \n",
       "87134                                   {'amount': 19.67}  \n",
       "92104                                   {'amount': 29.72}  \n",
       "141566                                  {'amount': 23.93}  \n",
       "150598   {'offer id': 'ae264e3637204a6fb9bb56bc8210ddfd'}  \n",
       "163375   {'offer id': 'ae264e3637204a6fb9bb56bc8210ddfd'}  \n",
       "201572   {'offer id': 'f19421c1d4aa40978ebb69ca19b0e20d'}  \n",
       "218393                                  {'amount': 21.72}  \n",
       "218394  {'offer_id': 'ae264e3637204a6fb9bb56bc8210ddfd...  \n",
       "218395  {'offer_id': 'f19421c1d4aa40978ebb69ca19b0e20d...  \n",
       "230412                                  {'amount': 26.56}  \n",
       "262138   {'offer id': 'f19421c1d4aa40978ebb69ca19b0e20d'}  "
      ]
     },
     "execution_count": 41,
     "metadata": {},
     "output_type": "execute_result"
    }
   ],
   "source": [
    "transcript[transcript['person'] ==transcript['person'][0]]"
   ]
  },
  {
   "cell_type": "code",
   "execution_count": 42,
   "metadata": {},
   "outputs": [
    {
     "data": {
      "text/html": [
       "<div>\n",
       "<style scoped>\n",
       "    .dataframe tbody tr th:only-of-type {\n",
       "        vertical-align: middle;\n",
       "    }\n",
       "\n",
       "    .dataframe tbody tr th {\n",
       "        vertical-align: top;\n",
       "    }\n",
       "\n",
       "    .dataframe thead th {\n",
       "        text-align: right;\n",
       "    }\n",
       "</style>\n",
       "<table border=\"1\" class=\"dataframe\">\n",
       "  <thead>\n",
       "    <tr style=\"text-align: right;\">\n",
       "      <th></th>\n",
       "      <th>event</th>\n",
       "      <th>person</th>\n",
       "      <th>time</th>\n",
       "      <th>value</th>\n",
       "    </tr>\n",
       "  </thead>\n",
       "  <tbody>\n",
       "    <tr>\n",
       "      <th>1</th>\n",
       "      <td>offer received</td>\n",
       "      <td>a03223e636434f42ac4c3df47e8bac43</td>\n",
       "      <td>0</td>\n",
       "      <td>{'offer id': '0b1e1539f2cc45b7b9fa7c272da2e1d7'}</td>\n",
       "    </tr>\n",
       "    <tr>\n",
       "      <th>15562</th>\n",
       "      <td>offer viewed</td>\n",
       "      <td>a03223e636434f42ac4c3df47e8bac43</td>\n",
       "      <td>6</td>\n",
       "      <td>{'offer id': '0b1e1539f2cc45b7b9fa7c272da2e1d7'}</td>\n",
       "    </tr>\n",
       "    <tr>\n",
       "      <th>90553</th>\n",
       "      <td>transaction</td>\n",
       "      <td>a03223e636434f42ac4c3df47e8bac43</td>\n",
       "      <td>234</td>\n",
       "      <td>{'amount': 1.09}</td>\n",
       "    </tr>\n",
       "    <tr>\n",
       "      <th>97700</th>\n",
       "      <td>transaction</td>\n",
       "      <td>a03223e636434f42ac4c3df47e8bac43</td>\n",
       "      <td>264</td>\n",
       "      <td>{'amount': 3.5}</td>\n",
       "    </tr>\n",
       "    <tr>\n",
       "      <th>110829</th>\n",
       "      <td>offer received</td>\n",
       "      <td>a03223e636434f42ac4c3df47e8bac43</td>\n",
       "      <td>336</td>\n",
       "      <td>{'offer id': '3f207df678b143eea3cee63160fa8bed'}</td>\n",
       "    </tr>\n",
       "    <tr>\n",
       "      <th>123539</th>\n",
       "      <td>offer viewed</td>\n",
       "      <td>a03223e636434f42ac4c3df47e8bac43</td>\n",
       "      <td>336</td>\n",
       "      <td>{'offer id': '3f207df678b143eea3cee63160fa8bed'}</td>\n",
       "    </tr>\n",
       "    <tr>\n",
       "      <th>150599</th>\n",
       "      <td>offer received</td>\n",
       "      <td>a03223e636434f42ac4c3df47e8bac43</td>\n",
       "      <td>408</td>\n",
       "      <td>{'offer id': '5a8bc65990b245e5a138643cd4eb9837'}</td>\n",
       "    </tr>\n",
       "    <tr>\n",
       "      <th>201573</th>\n",
       "      <td>offer received</td>\n",
       "      <td>a03223e636434f42ac4c3df47e8bac43</td>\n",
       "      <td>504</td>\n",
       "      <td>{'offer id': '0b1e1539f2cc45b7b9fa7c272da2e1d7'}</td>\n",
       "    </tr>\n",
       "    <tr>\n",
       "      <th>245125</th>\n",
       "      <td>offer received</td>\n",
       "      <td>a03223e636434f42ac4c3df47e8bac43</td>\n",
       "      <td>576</td>\n",
       "      <td>{'offer id': '0b1e1539f2cc45b7b9fa7c272da2e1d7'}</td>\n",
       "    </tr>\n",
       "    <tr>\n",
       "      <th>277104</th>\n",
       "      <td>transaction</td>\n",
       "      <td>a03223e636434f42ac4c3df47e8bac43</td>\n",
       "      <td>612</td>\n",
       "      <td>{'amount': 0.06}</td>\n",
       "    </tr>\n",
       "    <tr>\n",
       "      <th>281785</th>\n",
       "      <td>offer viewed</td>\n",
       "      <td>a03223e636434f42ac4c3df47e8bac43</td>\n",
       "      <td>624</td>\n",
       "      <td>{'offer id': '0b1e1539f2cc45b7b9fa7c272da2e1d7'}</td>\n",
       "    </tr>\n",
       "  </tbody>\n",
       "</table>\n",
       "</div>"
      ],
      "text/plain": [
       "                 event                            person  time  \\\n",
       "1       offer received  a03223e636434f42ac4c3df47e8bac43     0   \n",
       "15562     offer viewed  a03223e636434f42ac4c3df47e8bac43     6   \n",
       "90553      transaction  a03223e636434f42ac4c3df47e8bac43   234   \n",
       "97700      transaction  a03223e636434f42ac4c3df47e8bac43   264   \n",
       "110829  offer received  a03223e636434f42ac4c3df47e8bac43   336   \n",
       "123539    offer viewed  a03223e636434f42ac4c3df47e8bac43   336   \n",
       "150599  offer received  a03223e636434f42ac4c3df47e8bac43   408   \n",
       "201573  offer received  a03223e636434f42ac4c3df47e8bac43   504   \n",
       "245125  offer received  a03223e636434f42ac4c3df47e8bac43   576   \n",
       "277104     transaction  a03223e636434f42ac4c3df47e8bac43   612   \n",
       "281785    offer viewed  a03223e636434f42ac4c3df47e8bac43   624   \n",
       "\n",
       "                                                   value  \n",
       "1       {'offer id': '0b1e1539f2cc45b7b9fa7c272da2e1d7'}  \n",
       "15562   {'offer id': '0b1e1539f2cc45b7b9fa7c272da2e1d7'}  \n",
       "90553                                   {'amount': 1.09}  \n",
       "97700                                    {'amount': 3.5}  \n",
       "110829  {'offer id': '3f207df678b143eea3cee63160fa8bed'}  \n",
       "123539  {'offer id': '3f207df678b143eea3cee63160fa8bed'}  \n",
       "150599  {'offer id': '5a8bc65990b245e5a138643cd4eb9837'}  \n",
       "201573  {'offer id': '0b1e1539f2cc45b7b9fa7c272da2e1d7'}  \n",
       "245125  {'offer id': '0b1e1539f2cc45b7b9fa7c272da2e1d7'}  \n",
       "277104                                  {'amount': 0.06}  \n",
       "281785  {'offer id': '0b1e1539f2cc45b7b9fa7c272da2e1d7'}  "
      ]
     },
     "execution_count": 42,
     "metadata": {},
     "output_type": "execute_result"
    }
   ],
   "source": [
    "transcript[transcript['person'] ==transcript['person'][1]]"
   ]
  },
  {
   "cell_type": "code",
   "execution_count": 43,
   "metadata": {},
   "outputs": [
    {
     "data": {
      "text/html": [
       "<div>\n",
       "<style scoped>\n",
       "    .dataframe tbody tr th:only-of-type {\n",
       "        vertical-align: middle;\n",
       "    }\n",
       "\n",
       "    .dataframe tbody tr th {\n",
       "        vertical-align: top;\n",
       "    }\n",
       "\n",
       "    .dataframe thead th {\n",
       "        text-align: right;\n",
       "    }\n",
       "</style>\n",
       "<table border=\"1\" class=\"dataframe\">\n",
       "  <thead>\n",
       "    <tr style=\"text-align: right;\">\n",
       "      <th></th>\n",
       "      <th>event</th>\n",
       "      <th>person</th>\n",
       "      <th>time</th>\n",
       "      <th>value</th>\n",
       "    </tr>\n",
       "  </thead>\n",
       "  <tbody>\n",
       "    <tr>\n",
       "      <th>2</th>\n",
       "      <td>offer received</td>\n",
       "      <td>e2127556f4f64592b11af22de27a7932</td>\n",
       "      <td>0</td>\n",
       "      <td>{'offer id': '2906b810c7d4411798c6938adc9daaa5'}</td>\n",
       "    </tr>\n",
       "    <tr>\n",
       "      <th>20283</th>\n",
       "      <td>offer viewed</td>\n",
       "      <td>e2127556f4f64592b11af22de27a7932</td>\n",
       "      <td>18</td>\n",
       "      <td>{'offer id': '2906b810c7d4411798c6938adc9daaa5'}</td>\n",
       "    </tr>\n",
       "    <tr>\n",
       "      <th>102635</th>\n",
       "      <td>transaction</td>\n",
       "      <td>e2127556f4f64592b11af22de27a7932</td>\n",
       "      <td>288</td>\n",
       "      <td>{'amount': 17.88}</td>\n",
       "    </tr>\n",
       "    <tr>\n",
       "      <th>103834</th>\n",
       "      <td>transaction</td>\n",
       "      <td>e2127556f4f64592b11af22de27a7932</td>\n",
       "      <td>294</td>\n",
       "      <td>{'amount': 21.43}</td>\n",
       "    </tr>\n",
       "    <tr>\n",
       "      <th>110830</th>\n",
       "      <td>offer received</td>\n",
       "      <td>e2127556f4f64592b11af22de27a7932</td>\n",
       "      <td>336</td>\n",
       "      <td>{'offer id': '3f207df678b143eea3cee63160fa8bed'}</td>\n",
       "    </tr>\n",
       "    <tr>\n",
       "      <th>150600</th>\n",
       "      <td>offer received</td>\n",
       "      <td>e2127556f4f64592b11af22de27a7932</td>\n",
       "      <td>408</td>\n",
       "      <td>{'offer id': '9b98b8c7a33c4b65b9aebfe6a799e6d9'}</td>\n",
       "    </tr>\n",
       "    <tr>\n",
       "      <th>171209</th>\n",
       "      <td>offer viewed</td>\n",
       "      <td>e2127556f4f64592b11af22de27a7932</td>\n",
       "      <td>420</td>\n",
       "      <td>{'offer id': '9b98b8c7a33c4b65b9aebfe6a799e6d9'}</td>\n",
       "    </tr>\n",
       "    <tr>\n",
       "      <th>201574</th>\n",
       "      <td>offer received</td>\n",
       "      <td>e2127556f4f64592b11af22de27a7932</td>\n",
       "      <td>504</td>\n",
       "      <td>{'offer id': 'fafdcd668e3743c1bb461111dcafc2a4'}</td>\n",
       "    </tr>\n",
       "    <tr>\n",
       "      <th>225059</th>\n",
       "      <td>offer viewed</td>\n",
       "      <td>e2127556f4f64592b11af22de27a7932</td>\n",
       "      <td>522</td>\n",
       "      <td>{'offer id': 'fafdcd668e3743c1bb461111dcafc2a4'}</td>\n",
       "    </tr>\n",
       "    <tr>\n",
       "      <th>225060</th>\n",
       "      <td>transaction</td>\n",
       "      <td>e2127556f4f64592b11af22de27a7932</td>\n",
       "      <td>522</td>\n",
       "      <td>{'amount': 18.42}</td>\n",
       "    </tr>\n",
       "    <tr>\n",
       "      <th>225061</th>\n",
       "      <td>offer completed</td>\n",
       "      <td>e2127556f4f64592b11af22de27a7932</td>\n",
       "      <td>522</td>\n",
       "      <td>{'offer_id': '9b98b8c7a33c4b65b9aebfe6a799e6d9...</td>\n",
       "    </tr>\n",
       "    <tr>\n",
       "      <th>225062</th>\n",
       "      <td>offer completed</td>\n",
       "      <td>e2127556f4f64592b11af22de27a7932</td>\n",
       "      <td>522</td>\n",
       "      <td>{'offer_id': 'fafdcd668e3743c1bb461111dcafc2a4...</td>\n",
       "    </tr>\n",
       "  </tbody>\n",
       "</table>\n",
       "</div>"
      ],
      "text/plain": [
       "                  event                            person  time  \\\n",
       "2        offer received  e2127556f4f64592b11af22de27a7932     0   \n",
       "20283      offer viewed  e2127556f4f64592b11af22de27a7932    18   \n",
       "102635      transaction  e2127556f4f64592b11af22de27a7932   288   \n",
       "103834      transaction  e2127556f4f64592b11af22de27a7932   294   \n",
       "110830   offer received  e2127556f4f64592b11af22de27a7932   336   \n",
       "150600   offer received  e2127556f4f64592b11af22de27a7932   408   \n",
       "171209     offer viewed  e2127556f4f64592b11af22de27a7932   420   \n",
       "201574   offer received  e2127556f4f64592b11af22de27a7932   504   \n",
       "225059     offer viewed  e2127556f4f64592b11af22de27a7932   522   \n",
       "225060      transaction  e2127556f4f64592b11af22de27a7932   522   \n",
       "225061  offer completed  e2127556f4f64592b11af22de27a7932   522   \n",
       "225062  offer completed  e2127556f4f64592b11af22de27a7932   522   \n",
       "\n",
       "                                                    value  \n",
       "2        {'offer id': '2906b810c7d4411798c6938adc9daaa5'}  \n",
       "20283    {'offer id': '2906b810c7d4411798c6938adc9daaa5'}  \n",
       "102635                                  {'amount': 17.88}  \n",
       "103834                                  {'amount': 21.43}  \n",
       "110830   {'offer id': '3f207df678b143eea3cee63160fa8bed'}  \n",
       "150600   {'offer id': '9b98b8c7a33c4b65b9aebfe6a799e6d9'}  \n",
       "171209   {'offer id': '9b98b8c7a33c4b65b9aebfe6a799e6d9'}  \n",
       "201574   {'offer id': 'fafdcd668e3743c1bb461111dcafc2a4'}  \n",
       "225059   {'offer id': 'fafdcd668e3743c1bb461111dcafc2a4'}  \n",
       "225060                                  {'amount': 18.42}  \n",
       "225061  {'offer_id': '9b98b8c7a33c4b65b9aebfe6a799e6d9...  \n",
       "225062  {'offer_id': 'fafdcd668e3743c1bb461111dcafc2a4...  "
      ]
     },
     "execution_count": 43,
     "metadata": {},
     "output_type": "execute_result"
    }
   ],
   "source": [
    "transcript[transcript['person'] ==transcript['person'][2]]"
   ]
  },
  {
   "cell_type": "code",
   "execution_count": null,
   "metadata": {},
   "outputs": [],
   "source": []
  },
  {
   "cell_type": "markdown",
   "metadata": {},
   "source": [
    "## 1.4 Data Analysis and Approach to Solution"
   ]
  },
  {
   "cell_type": "markdown",
   "metadata": {},
   "source": [
    "From the data explore, I can see four binary classificaiton:\n",
    "1. who will be the target customer of bogo?\n",
    "2. who will be the target customer of discount?\n",
    "3. who will be the target of infomational ads?\n",
    "4. who will or will not check the offers been sent?\n",
    "\n",
    "Since the goal of this project is: \"To determine which demographic groups respond best to which offer type\", i will work on the first three questions. \n",
    "\n",
    "First need to define what is a correct match between customer and offer type. The promotion start from event \"offer received\". The result of each promotion will be evaluated by:\n",
    "```\n",
    "A transaction followed by offer receive, offer viewed, and offer completed (completed not required for informational offer). As shown following:\n",
    "    - received -> viewed -> transaction -> completed \n",
    "    - received -> viewed -> transaction (informational)\n",
    "    - for info offer, the time period between offer receive and transaction shall be shorter than the duration of the offer.\n",
    "    \n",
    "\n",
    "```\n",
    "\n",
    "Any \"offer received\" event that fulfils these conditions, will be labeled as \"positive\". Those got viewed but no valid transaction followed belong to the \"negative\" group. The offers not got viewed cannot be labeled, thus will be exclued from the training or test.\n",
    "\n",
    "Note that there are fewer \"offer complete\" than \"offer received\" (less than half). When I label these two kinds of offers, i will start from the completed offer. "
   ]
  },
  {
   "cell_type": "markdown",
   "metadata": {},
   "source": [
    "# 2. Data Preprocessing\n",
    "\n",
    "## 2.1 Merge all the data together"
   ]
  },
  {
   "cell_type": "code",
   "execution_count": 44,
   "metadata": {},
   "outputs": [],
   "source": [
    "# merge the data to one big data frame\n",
    "# first need to change each dataset a little so that they can merge. The data is already prepared by explore process,\n",
    "# with date became a member changed to days, and NaNs dropped.\n",
    "# profile_clean\n",
    "profile_clean = profile.copy()\n",
    "profile_clean['became_member_on'] = pd.to_datetime(profile_clean['became_member_on'].astype('str'), format='%Y%m%d')\n",
    "today = datetime.datetime(2020, 4, 23)\n",
    "profile_clean['member_days'] = (today - profile_clean['became_member_on']).dt.days\n",
    "profile_clean.drop('became_member_on', axis=1, inplace = True)\n",
    "profile_clean = profile_clean.dropna()\n",
    "\n",
    "# transcript: splite value dict to three columns: offer id, amount, offer reward. \n",
    "# Offer reward is the same with the reward in portfolio dataset, can also be dropout.\n",
    "df_split = transcript['value'].apply(pd.Series)\n",
    "df_split['offer id'] = df_split['offer id'].fillna(df_split['offer_id'])\n",
    "df_split.drop(['offer_id', 'reward'],axis=1, inplace = True)\n",
    "# drop 'value' column, contact df_split\n",
    "transcript_clean = pd.concat([transcript, df_split], axis = 1, join = 'inner')\n",
    "transcript_clean.drop('value',axis=1, inplace = True)\n",
    "\n",
    "# portfolio: deal with the channels\n",
    "channels_set = {'email', 'mobile', 'social', 'web'}\n",
    "portfolio_clean = portfolio.copy()\n",
    "for i in channels_set:\n",
    "    portfolio_clean[i] = portfolio.channels.apply(lambda x: i in x).map({True:1, False: 0})\n",
    "\n",
    "portfolio_clean.drop('channels', axis=1, inplace=True)\n"
   ]
  },
  {
   "cell_type": "code",
   "execution_count": 45,
   "metadata": {},
   "outputs": [
    {
     "name": "stdout",
     "output_type": "stream",
     "text": [
      "Dimension of transcript_clean: (306534, 5)\n",
      "Dimension after merge with custumer profile: (272762, 9)\n",
      "Dimension after merge with offer portfolio : (272762, 17)\n"
     ]
    }
   ],
   "source": [
    "# merge transcript_clean with profile_clean\n",
    "merged_data_df1 = pd.merge(transcript_clean, profile_clean, left_on = 'person', right_on='id')\n",
    "merged_data_df1.drop('id', axis=1, inplace=True)\n",
    "# further merge with portfolio\n",
    "merged_data_df = pd.merge(merged_data_df1, portfolio_clean, left_on = 'offer id', right_on='id', how='outer')\n",
    "merged_data_df.drop('id',axis=1, inplace=True)\n",
    "\n",
    "print('Dimension of transcript_clean:', transcript_clean.shape)\n",
    "print('Dimension after merge with custumer profile:', merged_data_df1.shape)\n",
    "print('Dimension after merge with offer portfolio :', merged_data_df.shape)"
   ]
  },
  {
   "cell_type": "code",
   "execution_count": 46,
   "metadata": {},
   "outputs": [],
   "source": [
    "# get transaction data\n",
    "mask_transaction = merged_data_df['event'] == 'transaction'\n",
    "transaction = merged_data_df.loc[mask_transaction]\n",
    "transaction = transaction.loc[:, ['person', 'time','amount']]\n",
    "\n",
    "# get offer data\n",
    "mask_offer = merged_data_df['event'] != 'transaction'\n",
    "offer = merged_data_df.loc[mask_offer]\n",
    "offer.drop('amount', axis=1, inplace=True)"
   ]
  },
  {
   "cell_type": "markdown",
   "metadata": {},
   "source": [
    "## 2.2 Label the Data\n",
    "The beginning of the promotion process is sending the offers. The offers has been sent 6 times, each time to around 12k costumer. Apart from the offers sent to costumers we lack informations, the rest is my whole data set to train and test on. \n",
    "\n",
    "In this section, i will label the data according to the approach I described in chapter 1.4.\n"
   ]
  },
  {
   "cell_type": "code",
   "execution_count": 47,
   "metadata": {},
   "outputs": [],
   "source": [
    "# create a few mask for data selection\n",
    "mask_viewed = offer['event'] == 'offer viewed'\n",
    "mask_received = offer['event'] == 'offer received'\n",
    "mask_completed = offer['event'] == 'offer completed'\n",
    "\n",
    "mask_bogo = offer['offer_type'] == 'bogo'\n",
    "mask_disc = offer['offer_type'] == 'discount'\n",
    "mask_info = offer['offer_type'] == 'informational'\n",
    "\n",
    "# create a universe\n",
    "\n",
    "universe_bogo = offer[mask_bogo]\n",
    "universe_disc = offer[mask_disc]\n",
    "universe_info = offer[mask_info]"
   ]
  },
  {
   "cell_type": "code",
   "execution_count": 53,
   "metadata": {},
   "outputs": [
    {
     "name": "stdout",
     "output_type": "stream",
     "text": [
      "universe_bogo:\n",
      " offer received     26537\n",
      "offer viewed       19763\n",
      "offer completed    15258\n",
      "Name: event, dtype: int64\n",
      "\n",
      "universe_disc:\n",
      " offer received     26664\n",
      "offer completed    17186\n",
      "offer viewed       16585\n",
      "Name: event, dtype: int64\n",
      "\n",
      "universe_info:\n",
      " offer received    13300\n",
      "offer viewed       9360\n",
      "Name: event, dtype: int64\n",
      "\n",
      "size of bogo, disc, info datasets are: (19763, 16) (16585, 16) (9360, 16)\n"
     ]
    }
   ],
   "source": [
    "# exclude some data\n",
    "def exclude_data(df):\n",
    "    req1 = req1 = df.shift(1).loc[mask_viewed]['event'] == 'offer completed'\n",
    "    req2 = df.shift(1).loc[mask_viewed]['offer id'] == df.loc[mask_viewed]['offer id']\n",
    "    req3 = df.shift(1).loc[mask_viewed]['person'] == df.loc[mask_viewed]['person']\n",
    "    return (req1 & req2 & req3)\n",
    "\n",
    "df_bogo_filter = exclude_data(universe_bogo)\n",
    "df_bogo_filter = df_bogo_filter[df_bogo_filter==True]\n",
    "universe_bogo = universe_bogo.drop(df_bogo_filter.index, axis=0)\n",
    "df_bogo = universe_bogo.loc[mask_viewed].copy()\n",
    "\n",
    "df_disc_filter = exclude_data(universe_disc)\n",
    "df_disc_filter = df_disc_filter[df_disc_filter==True]\n",
    "universe_disc = universe_disc.drop(df_disc_filter.index, axis=0)\n",
    "df_disc = universe_disc.loc[mask_viewed].copy()\n",
    "\n",
    "universe_info = offer.loc[mask_info]\n",
    "df_info = universe_info[universe_info['event'] == 'offer viewed'].copy()\n",
    "\n",
    "print('universe_bogo:\\n',universe_bogo['event'].value_counts())\n",
    "print('\\nuniverse_disc:\\n',universe_disc['event'].value_counts())\n",
    "print('\\nuniverse_info:\\n',universe_info['event'].value_counts())\n",
    "\n",
    "print('\\nsize of bogo, disc, info datasets are:',df_bogo.shape, df_disc.shape, df_info.shape)"
   ]
  },
  {
   "cell_type": "markdown",
   "metadata": {},
   "source": [
    "df_bogo, df_disc, df_info contains all offers that have been viewed. I will further label them in combination with transaction data. \n",
    "1. followed the order offer received, viewed, complete (info type don't need complete)\n",
    "2. a valid transaction (in valid time window, for bogo and discount amount shall higher than the difficulty)\n",
    "3. not a transaction due to other bogo or discount "
   ]
  },
  {
   "cell_type": "code",
   "execution_count": 54,
   "metadata": {},
   "outputs": [],
   "source": [
    "# add lable column\n",
    "df_bogo.loc[:, 'label'] = 0\n",
    "df_disc.loc[:, 'label'] = 0\n",
    "df_info.loc[:, 'label'] = 0"
   ]
  },
  {
   "cell_type": "code",
   "execution_count": 55,
   "metadata": {},
   "outputs": [
    {
     "data": {
      "text/plain": [
       "[0, 168, 336, 408, 504, 576]"
      ]
     },
     "execution_count": 55,
     "metadata": {},
     "output_type": "execute_result"
    }
   ],
   "source": [
    "ser_sending.index.tolist()"
   ]
  },
  {
   "cell_type": "code",
   "execution_count": 56,
   "metadata": {},
   "outputs": [
    {
     "name": "stdout",
     "output_type": "stream",
     "text": [
      "1\n",
      "1\n",
      "1\n"
     ]
    }
   ],
   "source": [
    "# what if there is a mismatch between small categories \n",
    "def max_sending_counts(df):\n",
    "    query_sample = ''\n",
    "    max_sending = 0\n",
    "    sending_timestamp = ser_sending.index.tolist()\n",
    "    for i in sending_timestamp:\n",
    "        query_sample ='time == {}'.format(i)\n",
    "        loc_max = df.query(query_sample).groupby('person')['offer_type'].count().max()\n",
    "        if loc_max > max_sending:\n",
    "            max_sending = loc_max\n",
    "\n",
    "    return max_sending\n",
    "\n",
    "print(max_sending_counts(universe_bogo.loc[mask_received]))\n",
    "print(max_sending_counts(universe_disc.loc[mask_received]))\n",
    "print(max_sending_counts(universe_info.loc[mask_received]))"
   ]
  },
  {
   "cell_type": "markdown",
   "metadata": {},
   "source": [
    "The function max_sending_counts shows the maximum number of offer types each person get per sending round. The system sends each round only one offer to one customer. But one offer could be valid for longer time (maximum to 20 days). So one customer could deal with more than offer at one time point. "
   ]
  },
  {
   "cell_type": "code",
   "execution_count": 57,
   "metadata": {},
   "outputs": [
    {
     "name": "stdout",
     "output_type": "stream",
     "text": [
      "True     10647\n",
      "False     9116\n",
      "Name: label, dtype: int64\n",
      "True     11687\n",
      "False     4898\n",
      "Name: label, dtype: int64\n"
     ]
    }
   ],
   "source": [
    "# for bogo and discount, validation need to check the order of offer viewed and completed\n",
    "def valid_offer_order(df):\n",
    "    req1 = df.shift(-1).loc[mask_viewed]['event'] == 'offer completed'\n",
    "    req2 = df.shift(-1).loc[mask_viewed]['offer id'] == df.loc[mask_viewed]['offer id']\n",
    "    req3 = df.shift(-1).loc[mask_viewed]['person'] == df.loc[mask_viewed]['person']\n",
    " \n",
    "    return req1 & req2 & req3\n",
    "\n",
    "df_bogo.loc[:, 'label'] = valid_offer_order(universe_bogo)\n",
    "df_disc.loc[:, 'label'] = valid_offer_order(universe_disc)\n",
    "\n",
    "print(df_bogo['label'].value_counts())\n",
    "print(df_disc['label'].value_counts())"
   ]
  },
  {
   "cell_type": "code",
   "execution_count": 58,
   "metadata": {},
   "outputs": [],
   "source": [
    "# remove the transaction record due to bogo and discount, for info offers successfulness analysis\n",
    "trans_info = transcript_clean.copy()\n",
    "\n",
    "trans = transcript_clean[(transcript_clean.shift(-1)['event']=='offer completed')\n",
    "                          & (transcript_clean['event'] == 'transaction')\n",
    "                          & (transcript_clean.shift(-1)['time'] == transcript_clean['time'])\n",
    "                          & (transcript_clean.shift(-1)['person'] == transcript_clean['person'])]\n",
    "\n",
    "trans_info = trans_info.drop(trans.index)\n",
    "trans_info = trans_info[trans_info['event']=='transaction']"
   ]
  },
  {
   "cell_type": "code",
   "execution_count": 59,
   "metadata": {},
   "outputs": [],
   "source": [
    "# add time validation for each offer viewed\n",
    "df_info_valid = df_info.copy()\n",
    "ser_time = universe_info[universe_info.shift(-1)['event'] == 'offer viewed']['time']\n",
    "ser_time.index +=1\n",
    "df_info_valid['time_val'] = ser_time + df_info_valid ['duration']*24"
   ]
  },
  {
   "cell_type": "code",
   "execution_count": 60,
   "metadata": {},
   "outputs": [
    {
     "data": {
      "text/plain": [
       "0    9360\n",
       "Name: label, dtype: int64"
      ]
     },
     "execution_count": 60,
     "metadata": {},
     "output_type": "execute_result"
    }
   ],
   "source": [
    "# Lable Info Ads\n",
    "def valid_info(row):\n",
    "    t = trans_info[trans_info['person'] == row['person']]['time'] \n",
    "    for i in t:\n",
    "        if  row['time'] <= i < row['time_val']:\n",
    "            return True\n",
    "        \n",
    "    return False\n",
    "\n",
    "\n",
    "df_info['label'] = df_info_valid[['person','time','time_val']].apply(lambda row: valid_info(row), axis=1)\n",
    "df_info_valid['label'].value_counts()"
   ]
  },
  {
   "cell_type": "code",
   "execution_count": null,
   "metadata": {},
   "outputs": [],
   "source": []
  },
  {
   "cell_type": "markdown",
   "metadata": {},
   "source": [
    "## 2.3 Implementation"
   ]
  },
  {
   "cell_type": "code",
   "execution_count": 61,
   "metadata": {},
   "outputs": [],
   "source": [
    "def prepare_input(df):\n",
    "    \n",
    "    ml_df = df.copy()\n",
    "    \n",
    "    # feat engineering\n",
    "    \n",
    "    # make sure all columns are numeric\n",
    "    ml_df = pd.concat([ml_df, pd.get_dummies(ml_df['gender'])], axis=1)\n",
    "    ml_df = ml_df.drop(columns = ['event', 'person','offer id','offer_type', 'gender'])\n",
    "    \n",
    "    # encode targets as 0s 1s\n",
    "    ml_df['label'] = ml_df['label'].astype(int)\n",
    "    \n",
    "    # split into feats and targets \n",
    "    target = ml_df['label']\n",
    "    feats = ml_df.drop(columns=['label'], axis=1)\n",
    "\n",
    "    # do train test split\n",
    "    X_train, X_test, y_train, y_test = train_test_split(feats, target, \n",
    "                                                        shuffle = True, \n",
    "                                                        random_state=42, \n",
    "                                                        train_size  = 0.8)\n",
    "        \n",
    "\n",
    "    # normalize data (training data)\n",
    "    scaler = StandardScaler()\n",
    "    X_train = scaler.fit_transform(X_train)\n",
    "    \n",
    "    # normalize also test data, with statistics from train data\n",
    "    X_test = scaler.transform(X_test)\n",
    "#     print(X_train[:5])\n",
    "    return X_train, X_test, y_train, y_test\n",
    "    \n",
    "    \n",
    "def train_evaluate_model(model, X_train, y_train, X_test, y_test):\n",
    "    \n",
    "    eval_matrix ={}\n",
    "#   results = {}\n",
    "    model = model.fit(X_train, y_train)\n",
    "    \n",
    "    preds_train = model.predict(X_train)\n",
    "    preds_test = model.predict(X_test)\n",
    "    \n",
    "    accuracy_train = model.score(X_train, y_train)\n",
    "    accuracy_test = model.score(X_test, y_test)\n",
    "\n",
    "    # calculate evaluate paremeters\n",
    "    mse_train = mean_squared_error(y_train, preds_train)\n",
    "    mse_test = mean_squared_error(y_test, preds_test)\n",
    "    precision, recall, f1score, _ = precision_recall_fscore_support(y_test, preds_test, average='macro')\n",
    "    # add f1 score\n",
    "    # precion and recall\n",
    "  \n",
    "    eval_matrix = {\n",
    "        'accuracy_train':accuracy_train,\n",
    "        'accuracy_test':accuracy_test,\n",
    "        'precision':precision,\n",
    "        'recall':recall,\n",
    "        'f1score':f1score\n",
    "    }\n",
    "    return eval_matrix\n",
    "\n",
    "#     results['accuracy_train'] = accuracy_train\n",
    "#     results['accuracy_test'] = accuracy_test\n",
    "#     results['mse_train'] = mse_train\n",
    "#     results['mse_test'] = mse_test\n"
   ]
  },
  {
   "cell_type": "code",
   "execution_count": 62,
   "metadata": {},
   "outputs": [],
   "source": [
    "def train_func(df):\n",
    "    model_list=[]\n",
    "    # init models\n",
    "    model_lre = LogisticRegression(max_iter=100)\n",
    "    model_tree  = DecisionTreeClassifier(criterion='entropy', max_depth = 6, min_samples_split = 90,\n",
    "                                            min_samples_leaf = 50, random_state = 10)\n",
    "    model_rf = RandomForestClassifier(n_estimators = 20, criterion='entropy', max_depth = 11, max_features= 'auto',\n",
    "                                           min_samples_split = 10, min_samples_leaf = 20, random_state = 2)\n",
    "    # model_ = SVC(C = 2.0, kernel = 'rbf', gamma = 'auto')\n",
    "\n",
    "\n",
    "    X_train, X_test, y_train, y_test = prepare_input(df)\n",
    "    \n",
    "    eval_matrix_lre = train_evaluate_model(model_lre, X_train, y_train, X_test, y_test)\n",
    "    eval_matrix_tree = train_evaluate_model(model_tree, X_train, y_train, X_test, y_test)\n",
    "    eval_matrix_rf = train_evaluate_model(model_rf, X_train, y_train, X_test, y_test)\n",
    "    res = pd.concat([pd.Series(eval_matrix_lre, name = 'lre'),\n",
    "                    pd.Series(eval_matrix_tree, name = 'tree'), \n",
    "                    pd.Series(eval_matrix_rf, name = 'rf')], \n",
    "                    axis = 1)\n",
    "    \n",
    "    model_list.append(model_lre)\n",
    "    model_list.append(model_tree)\n",
    "    model_list.append(model_rf)\n",
    "\n",
    "    \n",
    "    return res, model_list\n",
    "    "
   ]
  },
  {
   "cell_type": "code",
   "execution_count": 63,
   "metadata": {},
   "outputs": [
    {
     "data": {
      "text/html": [
       "<div>\n",
       "<style scoped>\n",
       "    .dataframe tbody tr th:only-of-type {\n",
       "        vertical-align: middle;\n",
       "    }\n",
       "\n",
       "    .dataframe tbody tr th {\n",
       "        vertical-align: top;\n",
       "    }\n",
       "\n",
       "    .dataframe thead th {\n",
       "        text-align: right;\n",
       "    }\n",
       "</style>\n",
       "<table border=\"1\" class=\"dataframe\">\n",
       "  <thead>\n",
       "    <tr style=\"text-align: right;\">\n",
       "      <th></th>\n",
       "      <th>lre</th>\n",
       "      <th>tree</th>\n",
       "      <th>rf</th>\n",
       "    </tr>\n",
       "  </thead>\n",
       "  <tbody>\n",
       "    <tr>\n",
       "      <th>accuracy_train</th>\n",
       "      <td>0.666350</td>\n",
       "      <td>0.725047</td>\n",
       "      <td>0.752056</td>\n",
       "    </tr>\n",
       "    <tr>\n",
       "      <th>accuracy_test</th>\n",
       "      <td>0.665570</td>\n",
       "      <td>0.712370</td>\n",
       "      <td>0.721730</td>\n",
       "    </tr>\n",
       "    <tr>\n",
       "      <th>precision</th>\n",
       "      <td>0.664999</td>\n",
       "      <td>0.711626</td>\n",
       "      <td>0.721210</td>\n",
       "    </tr>\n",
       "    <tr>\n",
       "      <th>recall</th>\n",
       "      <td>0.662769</td>\n",
       "      <td>0.711148</td>\n",
       "      <td>0.720055</td>\n",
       "    </tr>\n",
       "    <tr>\n",
       "      <th>f1score</th>\n",
       "      <td>0.662913</td>\n",
       "      <td>0.711324</td>\n",
       "      <td>0.720377</td>\n",
       "    </tr>\n",
       "  </tbody>\n",
       "</table>\n",
       "</div>"
      ],
      "text/plain": [
       "                     lre      tree        rf\n",
       "accuracy_train  0.666350  0.725047  0.752056\n",
       "accuracy_test   0.665570  0.712370  0.721730\n",
       "precision       0.664999  0.711626  0.721210\n",
       "recall          0.662769  0.711148  0.720055\n",
       "f1score         0.662913  0.711324  0.720377"
      ]
     },
     "execution_count": 63,
     "metadata": {},
     "output_type": "execute_result"
    }
   ],
   "source": [
    "res_bogo, model_list_bogo = train_func(df_bogo)\n",
    "res_bogo"
   ]
  },
  {
   "cell_type": "code",
   "execution_count": 64,
   "metadata": {},
   "outputs": [
    {
     "data": {
      "text/html": [
       "<div>\n",
       "<style scoped>\n",
       "    .dataframe tbody tr th:only-of-type {\n",
       "        vertical-align: middle;\n",
       "    }\n",
       "\n",
       "    .dataframe tbody tr th {\n",
       "        vertical-align: top;\n",
       "    }\n",
       "\n",
       "    .dataframe thead th {\n",
       "        text-align: right;\n",
       "    }\n",
       "</style>\n",
       "<table border=\"1\" class=\"dataframe\">\n",
       "  <thead>\n",
       "    <tr style=\"text-align: right;\">\n",
       "      <th></th>\n",
       "      <th>lre</th>\n",
       "      <th>tree</th>\n",
       "      <th>rf</th>\n",
       "    </tr>\n",
       "  </thead>\n",
       "  <tbody>\n",
       "    <tr>\n",
       "      <th>accuracy_train</th>\n",
       "      <td>0.736886</td>\n",
       "      <td>0.748191</td>\n",
       "      <td>0.775927</td>\n",
       "    </tr>\n",
       "    <tr>\n",
       "      <th>accuracy_test</th>\n",
       "      <td>0.730479</td>\n",
       "      <td>0.739524</td>\n",
       "      <td>0.744347</td>\n",
       "    </tr>\n",
       "    <tr>\n",
       "      <th>precision</th>\n",
       "      <td>0.680304</td>\n",
       "      <td>0.689063</td>\n",
       "      <td>0.696038</td>\n",
       "    </tr>\n",
       "    <tr>\n",
       "      <th>recall</th>\n",
       "      <td>0.602503</td>\n",
       "      <td>0.633326</td>\n",
       "      <td>0.642504</td>\n",
       "    </tr>\n",
       "    <tr>\n",
       "      <th>f1score</th>\n",
       "      <td>0.606668</td>\n",
       "      <td>0.643575</td>\n",
       "      <td>0.653708</td>\n",
       "    </tr>\n",
       "  </tbody>\n",
       "</table>\n",
       "</div>"
      ],
      "text/plain": [
       "                     lre      tree        rf\n",
       "accuracy_train  0.736886  0.748191  0.775927\n",
       "accuracy_test   0.730479  0.739524  0.744347\n",
       "precision       0.680304  0.689063  0.696038\n",
       "recall          0.602503  0.633326  0.642504\n",
       "f1score         0.606668  0.643575  0.653708"
      ]
     },
     "execution_count": 64,
     "metadata": {},
     "output_type": "execute_result"
    }
   ],
   "source": [
    "res_disc, model_list_disc = train_func(df_disc)\n",
    "res_disc"
   ]
  },
  {
   "cell_type": "code",
   "execution_count": 65,
   "metadata": {},
   "outputs": [
    {
     "data": {
      "text/html": [
       "<div>\n",
       "<style scoped>\n",
       "    .dataframe tbody tr th:only-of-type {\n",
       "        vertical-align: middle;\n",
       "    }\n",
       "\n",
       "    .dataframe tbody tr th {\n",
       "        vertical-align: top;\n",
       "    }\n",
       "\n",
       "    .dataframe thead th {\n",
       "        text-align: right;\n",
       "    }\n",
       "</style>\n",
       "<table border=\"1\" class=\"dataframe\">\n",
       "  <thead>\n",
       "    <tr style=\"text-align: right;\">\n",
       "      <th></th>\n",
       "      <th>lre</th>\n",
       "      <th>tree</th>\n",
       "      <th>rf</th>\n",
       "    </tr>\n",
       "  </thead>\n",
       "  <tbody>\n",
       "    <tr>\n",
       "      <th>accuracy_train</th>\n",
       "      <td>0.606838</td>\n",
       "      <td>0.669872</td>\n",
       "      <td>0.704861</td>\n",
       "    </tr>\n",
       "    <tr>\n",
       "      <th>accuracy_test</th>\n",
       "      <td>0.625000</td>\n",
       "      <td>0.650641</td>\n",
       "      <td>0.655983</td>\n",
       "    </tr>\n",
       "    <tr>\n",
       "      <th>precision</th>\n",
       "      <td>0.625204</td>\n",
       "      <td>0.651824</td>\n",
       "      <td>0.655824</td>\n",
       "    </tr>\n",
       "    <tr>\n",
       "      <th>recall</th>\n",
       "      <td>0.625245</td>\n",
       "      <td>0.651403</td>\n",
       "      <td>0.655391</td>\n",
       "    </tr>\n",
       "    <tr>\n",
       "      <th>f1score</th>\n",
       "      <td>0.624993</td>\n",
       "      <td>0.650539</td>\n",
       "      <td>0.655415</td>\n",
       "    </tr>\n",
       "  </tbody>\n",
       "</table>\n",
       "</div>"
      ],
      "text/plain": [
       "                     lre      tree        rf\n",
       "accuracy_train  0.606838  0.669872  0.704861\n",
       "accuracy_test   0.625000  0.650641  0.655983\n",
       "precision       0.625204  0.651824  0.655824\n",
       "recall          0.625245  0.651403  0.655391\n",
       "f1score         0.624993  0.650539  0.655415"
      ]
     },
     "execution_count": 65,
     "metadata": {},
     "output_type": "execute_result"
    }
   ],
   "source": [
    "res_info, model_list_info = train_func(df_info)\n",
    "res_info"
   ]
  },
  {
   "cell_type": "code",
   "execution_count": null,
   "metadata": {},
   "outputs": [],
   "source": []
  },
  {
   "cell_type": "markdown",
   "metadata": {},
   "source": [
    "## 2.4 Refinement\n",
    "### 2.4.1 Add the frequency of transaction as features"
   ]
  },
  {
   "cell_type": "code",
   "execution_count": 66,
   "metadata": {},
   "outputs": [],
   "source": [
    "df_trans_freq = pd.DataFrame(transcript_clean['person'].value_counts()).reset_index()\n",
    "df_trans_freq = df_trans_freq.rename(columns={'person':'freq'})\n",
    "\n",
    "df_bogo_feature = pd.merge(left= df_bogo, \n",
    "                           right = df_trans_freq, \n",
    "                           how = 'inner', \n",
    "                           left_on = 'person', \n",
    "                           right_on = 'index').drop('index',axis=1)\n",
    "df_disc_feature = pd.merge(left= df_disc, \n",
    "                           right = df_trans_freq, \n",
    "                           how = 'inner', \n",
    "                           left_on = 'person', \n",
    "                           right_on = 'index').drop('index',axis=1)\n",
    "df_info_feature = pd.merge(left= df_info, \n",
    "                           right = df_trans_freq, \n",
    "                           how = 'inner', \n",
    "                           left_on = 'person', \n",
    "                           right_on = 'index').drop('index',axis=1)"
   ]
  },
  {
   "cell_type": "code",
   "execution_count": 67,
   "metadata": {},
   "outputs": [
    {
     "data": {
      "text/html": [
       "<div>\n",
       "<style scoped>\n",
       "    .dataframe tbody tr th:only-of-type {\n",
       "        vertical-align: middle;\n",
       "    }\n",
       "\n",
       "    .dataframe tbody tr th {\n",
       "        vertical-align: top;\n",
       "    }\n",
       "\n",
       "    .dataframe thead th {\n",
       "        text-align: right;\n",
       "    }\n",
       "</style>\n",
       "<table border=\"1\" class=\"dataframe\">\n",
       "  <thead>\n",
       "    <tr style=\"text-align: right;\">\n",
       "      <th></th>\n",
       "      <th>lre</th>\n",
       "      <th>tree</th>\n",
       "      <th>rf</th>\n",
       "    </tr>\n",
       "  </thead>\n",
       "  <tbody>\n",
       "    <tr>\n",
       "      <th>accuracy_train</th>\n",
       "      <td>0.730108</td>\n",
       "      <td>0.765022</td>\n",
       "      <td>0.798798</td>\n",
       "    </tr>\n",
       "    <tr>\n",
       "      <th>accuracy_test</th>\n",
       "      <td>0.728814</td>\n",
       "      <td>0.756641</td>\n",
       "      <td>0.769036</td>\n",
       "    </tr>\n",
       "    <tr>\n",
       "      <th>precision</th>\n",
       "      <td>0.727886</td>\n",
       "      <td>0.757690</td>\n",
       "      <td>0.769150</td>\n",
       "    </tr>\n",
       "    <tr>\n",
       "      <th>recall</th>\n",
       "      <td>0.724521</td>\n",
       "      <td>0.751280</td>\n",
       "      <td>0.764814</td>\n",
       "    </tr>\n",
       "    <tr>\n",
       "      <th>f1score</th>\n",
       "      <td>0.725396</td>\n",
       "      <td>0.752635</td>\n",
       "      <td>0.766004</td>\n",
       "    </tr>\n",
       "  </tbody>\n",
       "</table>\n",
       "</div>"
      ],
      "text/plain": [
       "                     lre      tree        rf\n",
       "accuracy_train  0.730108  0.765022  0.798798\n",
       "accuracy_test   0.728814  0.756641  0.769036\n",
       "precision       0.727886  0.757690  0.769150\n",
       "recall          0.724521  0.751280  0.764814\n",
       "f1score         0.725396  0.752635  0.766004"
      ]
     },
     "execution_count": 67,
     "metadata": {},
     "output_type": "execute_result"
    }
   ],
   "source": [
    "res_bogo, model_bogo = train_func(df_bogo_feature)\n",
    "res_bogo"
   ]
  },
  {
   "cell_type": "code",
   "execution_count": 68,
   "metadata": {},
   "outputs": [
    {
     "data": {
      "text/html": [
       "<div>\n",
       "<style scoped>\n",
       "    .dataframe tbody tr th:only-of-type {\n",
       "        vertical-align: middle;\n",
       "    }\n",
       "\n",
       "    .dataframe tbody tr th {\n",
       "        vertical-align: top;\n",
       "    }\n",
       "\n",
       "    .dataframe thead th {\n",
       "        text-align: right;\n",
       "    }\n",
       "</style>\n",
       "<table border=\"1\" class=\"dataframe\">\n",
       "  <thead>\n",
       "    <tr style=\"text-align: right;\">\n",
       "      <th></th>\n",
       "      <th>lre</th>\n",
       "      <th>tree</th>\n",
       "      <th>rf</th>\n",
       "    </tr>\n",
       "  </thead>\n",
       "  <tbody>\n",
       "    <tr>\n",
       "      <th>accuracy_train</th>\n",
       "      <td>0.825068</td>\n",
       "      <td>0.831776</td>\n",
       "      <td>0.843307</td>\n",
       "    </tr>\n",
       "    <tr>\n",
       "      <th>accuracy_test</th>\n",
       "      <td>0.805547</td>\n",
       "      <td>0.817606</td>\n",
       "      <td>0.817305</td>\n",
       "    </tr>\n",
       "    <tr>\n",
       "      <th>precision</th>\n",
       "      <td>0.772726</td>\n",
       "      <td>0.784334</td>\n",
       "      <td>0.788318</td>\n",
       "    </tr>\n",
       "    <tr>\n",
       "      <th>recall</th>\n",
       "      <td>0.740921</td>\n",
       "      <td>0.766893</td>\n",
       "      <td>0.755763</td>\n",
       "    </tr>\n",
       "    <tr>\n",
       "      <th>f1score</th>\n",
       "      <td>0.753168</td>\n",
       "      <td>0.774518</td>\n",
       "      <td>0.768500</td>\n",
       "    </tr>\n",
       "  </tbody>\n",
       "</table>\n",
       "</div>"
      ],
      "text/plain": [
       "                     lre      tree        rf\n",
       "accuracy_train  0.825068  0.831776  0.843307\n",
       "accuracy_test   0.805547  0.817606  0.817305\n",
       "precision       0.772726  0.784334  0.788318\n",
       "recall          0.740921  0.766893  0.755763\n",
       "f1score         0.753168  0.774518  0.768500"
      ]
     },
     "execution_count": 68,
     "metadata": {},
     "output_type": "execute_result"
    }
   ],
   "source": [
    "res_disc, model_disc = train_func(df_disc_feature)\n",
    "res_disc"
   ]
  },
  {
   "cell_type": "code",
   "execution_count": 69,
   "metadata": {},
   "outputs": [
    {
     "data": {
      "text/html": [
       "<div>\n",
       "<style scoped>\n",
       "    .dataframe tbody tr th:only-of-type {\n",
       "        vertical-align: middle;\n",
       "    }\n",
       "\n",
       "    .dataframe tbody tr th {\n",
       "        vertical-align: top;\n",
       "    }\n",
       "\n",
       "    .dataframe thead th {\n",
       "        text-align: right;\n",
       "    }\n",
       "</style>\n",
       "<table border=\"1\" class=\"dataframe\">\n",
       "  <thead>\n",
       "    <tr style=\"text-align: right;\">\n",
       "      <th></th>\n",
       "      <th>lre</th>\n",
       "      <th>tree</th>\n",
       "      <th>rf</th>\n",
       "    </tr>\n",
       "  </thead>\n",
       "  <tbody>\n",
       "    <tr>\n",
       "      <th>accuracy_train</th>\n",
       "      <td>0.666800</td>\n",
       "      <td>0.697249</td>\n",
       "      <td>0.732105</td>\n",
       "    </tr>\n",
       "    <tr>\n",
       "      <th>accuracy_test</th>\n",
       "      <td>0.646368</td>\n",
       "      <td>0.642094</td>\n",
       "      <td>0.670940</td>\n",
       "    </tr>\n",
       "    <tr>\n",
       "      <th>precision</th>\n",
       "      <td>0.648059</td>\n",
       "      <td>0.642619</td>\n",
       "      <td>0.670319</td>\n",
       "    </tr>\n",
       "    <tr>\n",
       "      <th>recall</th>\n",
       "      <td>0.647931</td>\n",
       "      <td>0.642862</td>\n",
       "      <td>0.670441</td>\n",
       "    </tr>\n",
       "    <tr>\n",
       "      <th>f1score</th>\n",
       "      <td>0.646361</td>\n",
       "      <td>0.642035</td>\n",
       "      <td>0.670368</td>\n",
       "    </tr>\n",
       "  </tbody>\n",
       "</table>\n",
       "</div>"
      ],
      "text/plain": [
       "                     lre      tree        rf\n",
       "accuracy_train  0.666800  0.697249  0.732105\n",
       "accuracy_test   0.646368  0.642094  0.670940\n",
       "precision       0.648059  0.642619  0.670319\n",
       "recall          0.647931  0.642862  0.670441\n",
       "f1score         0.646361  0.642035  0.670368"
      ]
     },
     "execution_count": 69,
     "metadata": {},
     "output_type": "execute_result"
    }
   ],
   "source": [
    "res_info, model_info = train_func(df_info_feature)\n",
    "res_info"
   ]
  },
  {
   "cell_type": "markdown",
   "metadata": {},
   "source": [
    "### 2.4.2 Add the total amount of money each customer spent during these 30 days "
   ]
  },
  {
   "cell_type": "code",
   "execution_count": 70,
   "metadata": {},
   "outputs": [],
   "source": [
    "df_trans_amount = transcript_clean.groupby('person')['amount'].sum().reset_index()\n",
    "df_trans_amount = df_trans_amount.rename(columns={'amount':'total_amount'})\n",
    "\n",
    "df_bogo_feature = pd.merge(left= df_bogo_feature, \n",
    "                           right = df_trans_amount, \n",
    "                           how = 'inner', \n",
    "                           left_on = 'person', \n",
    "                           right_on = 'person')#.drop('index',axis=1)\n",
    "df_disc_feature = pd.merge(left= df_disc_feature, \n",
    "                           right = df_trans_amount, \n",
    "                           how = 'inner', \n",
    "                           left_on = 'person', \n",
    "                           right_on = 'person')#.drop('index',axis=1)\n",
    "df_info_feature = pd.merge(left= df_info_feature, \n",
    "                           right = df_trans_amount, \n",
    "                           how = 'inner', \n",
    "                           left_on = 'person', \n",
    "                           right_on = 'person')#.drop('index',axis=1)"
   ]
  },
  {
   "cell_type": "code",
   "execution_count": 71,
   "metadata": {},
   "outputs": [
    {
     "data": {
      "text/html": [
       "<div>\n",
       "<style scoped>\n",
       "    .dataframe tbody tr th:only-of-type {\n",
       "        vertical-align: middle;\n",
       "    }\n",
       "\n",
       "    .dataframe tbody tr th {\n",
       "        vertical-align: top;\n",
       "    }\n",
       "\n",
       "    .dataframe thead th {\n",
       "        text-align: right;\n",
       "    }\n",
       "</style>\n",
       "<table border=\"1\" class=\"dataframe\">\n",
       "  <thead>\n",
       "    <tr style=\"text-align: right;\">\n",
       "      <th></th>\n",
       "      <th>lre</th>\n",
       "      <th>tree</th>\n",
       "      <th>rf</th>\n",
       "    </tr>\n",
       "  </thead>\n",
       "  <tbody>\n",
       "    <tr>\n",
       "      <th>accuracy_train</th>\n",
       "      <td>0.804048</td>\n",
       "      <td>0.831626</td>\n",
       "      <td>0.846110</td>\n",
       "    </tr>\n",
       "    <tr>\n",
       "      <th>accuracy_test</th>\n",
       "      <td>0.812041</td>\n",
       "      <td>0.824184</td>\n",
       "      <td>0.826714</td>\n",
       "    </tr>\n",
       "    <tr>\n",
       "      <th>precision</th>\n",
       "      <td>0.811393</td>\n",
       "      <td>0.825261</td>\n",
       "      <td>0.827464</td>\n",
       "    </tr>\n",
       "    <tr>\n",
       "      <th>recall</th>\n",
       "      <td>0.813214</td>\n",
       "      <td>0.820506</td>\n",
       "      <td>0.823332</td>\n",
       "    </tr>\n",
       "    <tr>\n",
       "      <th>f1score</th>\n",
       "      <td>0.811588</td>\n",
       "      <td>0.821979</td>\n",
       "      <td>0.824678</td>\n",
       "    </tr>\n",
       "  </tbody>\n",
       "</table>\n",
       "</div>"
      ],
      "text/plain": [
       "                     lre      tree        rf\n",
       "accuracy_train  0.804048  0.831626  0.846110\n",
       "accuracy_test   0.812041  0.824184  0.826714\n",
       "precision       0.811393  0.825261  0.827464\n",
       "recall          0.813214  0.820506  0.823332\n",
       "f1score         0.811588  0.821979  0.824678"
      ]
     },
     "execution_count": 71,
     "metadata": {},
     "output_type": "execute_result"
    }
   ],
   "source": [
    "res_bogo, model_bogo = train_func(df_bogo_feature)\n",
    "res_bogo"
   ]
  },
  {
   "cell_type": "code",
   "execution_count": 72,
   "metadata": {},
   "outputs": [
    {
     "data": {
      "text/html": [
       "<div>\n",
       "<style scoped>\n",
       "    .dataframe tbody tr th:only-of-type {\n",
       "        vertical-align: middle;\n",
       "    }\n",
       "\n",
       "    .dataframe tbody tr th {\n",
       "        vertical-align: top;\n",
       "    }\n",
       "\n",
       "    .dataframe thead th {\n",
       "        text-align: right;\n",
       "    }\n",
       "</style>\n",
       "<table border=\"1\" class=\"dataframe\">\n",
       "  <thead>\n",
       "    <tr style=\"text-align: right;\">\n",
       "      <th></th>\n",
       "      <th>lre</th>\n",
       "      <th>tree</th>\n",
       "      <th>rf</th>\n",
       "    </tr>\n",
       "  </thead>\n",
       "  <tbody>\n",
       "    <tr>\n",
       "      <th>accuracy_train</th>\n",
       "      <td>0.843006</td>\n",
       "      <td>0.850995</td>\n",
       "      <td>0.863958</td>\n",
       "    </tr>\n",
       "    <tr>\n",
       "      <th>accuracy_test</th>\n",
       "      <td>0.829665</td>\n",
       "      <td>0.826952</td>\n",
       "      <td>0.836599</td>\n",
       "    </tr>\n",
       "    <tr>\n",
       "      <th>precision</th>\n",
       "      <td>0.798965</td>\n",
       "      <td>0.810927</td>\n",
       "      <td>0.816625</td>\n",
       "    </tr>\n",
       "    <tr>\n",
       "      <th>recall</th>\n",
       "      <td>0.783425</td>\n",
       "      <td>0.754059</td>\n",
       "      <td>0.775663</td>\n",
       "    </tr>\n",
       "    <tr>\n",
       "      <th>f1score</th>\n",
       "      <td>0.790378</td>\n",
       "      <td>0.773358</td>\n",
       "      <td>0.791327</td>\n",
       "    </tr>\n",
       "  </tbody>\n",
       "</table>\n",
       "</div>"
      ],
      "text/plain": [
       "                     lre      tree        rf\n",
       "accuracy_train  0.843006  0.850995  0.863958\n",
       "accuracy_test   0.829665  0.826952  0.836599\n",
       "precision       0.798965  0.810927  0.816625\n",
       "recall          0.783425  0.754059  0.775663\n",
       "f1score         0.790378  0.773358  0.791327"
      ]
     },
     "execution_count": 72,
     "metadata": {},
     "output_type": "execute_result"
    }
   ],
   "source": [
    "res_disc, model_disc = train_func(df_disc_feature)\n",
    "res_disc"
   ]
  },
  {
   "cell_type": "code",
   "execution_count": 73,
   "metadata": {},
   "outputs": [
    {
     "data": {
      "text/html": [
       "<div>\n",
       "<style scoped>\n",
       "    .dataframe tbody tr th:only-of-type {\n",
       "        vertical-align: middle;\n",
       "    }\n",
       "\n",
       "    .dataframe tbody tr th {\n",
       "        vertical-align: top;\n",
       "    }\n",
       "\n",
       "    .dataframe thead th {\n",
       "        text-align: right;\n",
       "    }\n",
       "</style>\n",
       "<table border=\"1\" class=\"dataframe\">\n",
       "  <thead>\n",
       "    <tr style=\"text-align: right;\">\n",
       "      <th></th>\n",
       "      <th>lre</th>\n",
       "      <th>tree</th>\n",
       "      <th>rf</th>\n",
       "    </tr>\n",
       "  </thead>\n",
       "  <tbody>\n",
       "    <tr>\n",
       "      <th>accuracy_train</th>\n",
       "      <td>0.668937</td>\n",
       "      <td>0.697115</td>\n",
       "      <td>0.749065</td>\n",
       "    </tr>\n",
       "    <tr>\n",
       "      <th>accuracy_test</th>\n",
       "      <td>0.647436</td>\n",
       "      <td>0.655449</td>\n",
       "      <td>0.675214</td>\n",
       "    </tr>\n",
       "    <tr>\n",
       "      <th>precision</th>\n",
       "      <td>0.648727</td>\n",
       "      <td>0.660232</td>\n",
       "      <td>0.674472</td>\n",
       "    </tr>\n",
       "    <tr>\n",
       "      <th>recall</th>\n",
       "      <td>0.648756</td>\n",
       "      <td>0.658433</td>\n",
       "      <td>0.674281</td>\n",
       "    </tr>\n",
       "    <tr>\n",
       "      <th>f1score</th>\n",
       "      <td>0.647435</td>\n",
       "      <td>0.655033</td>\n",
       "      <td>0.674357</td>\n",
       "    </tr>\n",
       "  </tbody>\n",
       "</table>\n",
       "</div>"
      ],
      "text/plain": [
       "                     lre      tree        rf\n",
       "accuracy_train  0.668937  0.697115  0.749065\n",
       "accuracy_test   0.647436  0.655449  0.675214\n",
       "precision       0.648727  0.660232  0.674472\n",
       "recall          0.648756  0.658433  0.674281\n",
       "f1score         0.647435  0.655033  0.674357"
      ]
     },
     "execution_count": 73,
     "metadata": {},
     "output_type": "execute_result"
    }
   ],
   "source": [
    "res_info, model_info = train_func(df_info_feature)\n",
    "res_info"
   ]
  },
  {
   "cell_type": "markdown",
   "metadata": {},
   "source": [
    "# 3. Model Evaluation and Validation\n"
   ]
  },
  {
   "cell_type": "code",
   "execution_count": 74,
   "metadata": {},
   "outputs": [],
   "source": [
    "featcol = ['time', 'age', 'income', 'member_days', \n",
    "                    'difficulty', 'duration',  'reward', \n",
    "                    'mobile', 'web', 'social', 'email', \n",
    "                    'g_F','g_M','g_O']\n",
    "\n",
    "#featcol = ['time', 'age', 'income','member_days', \n",
    "#                    'difficulty', 'duration',  'reward', \n",
    "#                    'mobile', 'web', 'social', 'email', \n",
    "#                    'g_F','g_M','g_O']"
   ]
  },
  {
   "cell_type": "code",
   "execution_count": 75,
   "metadata": {},
   "outputs": [
    {
     "data": {
      "image/png": "[encoded data removed]",
      "text/plain": [
       "<matplotlib.figure.Figure at 0x7ffb4142d908>"
      ]
     },
     "metadata": {
      "needs_background": "light"
     },
     "output_type": "display_data"
    },
    {
     "data": {
      "image/png": "[encoded data removed]",
      "text/plain": [
       "<matplotlib.figure.Figure at 0x7ffb4142da58>"
      ]
     },
     "metadata": {
      "needs_background": "light"
     },
     "output_type": "display_data"
    },
    {
     "data": {
      "image/png": "[encoded data removed]",
      "text/plain": [
       "<matplotlib.figure.Figure at 0x7ffb3bf3d320>"
      ]
     },
     "metadata": {
      "needs_background": "light"
     },
     "output_type": "display_data"
    }
   ],
   "source": [
    "def read_and_plot_feature_importance(best_model, name=None):\n",
    "    \n",
    "    feat_importances = pd.DataFrame(best_model.feature_importances_,\n",
    "                                    index = featcol,\n",
    "                                    columns=['importance']).sort_values('importance',ascending=False)\n",
    "    feat_importances.plot.bar()\n",
    "    plt.title(f'Feature importances of the best {name} model.')\n",
    "    plt.show()\n",
    "\n",
    "read_and_plot_feature_importance(model_list_bogo[2], 'bogo')\n",
    "read_and_plot_feature_importance(model_list_disc[2], 'discount')\n",
    "read_and_plot_feature_importance(model_list_info[2], 'informational')"
   ]
  },
  {
   "cell_type": "code",
   "execution_count": null,
   "metadata": {},
   "outputs": [],
   "source": []
  },
  {
   "cell_type": "code",
   "execution_count": null,
   "metadata": {},
   "outputs": [],
   "source": []
  }
 ],
 "metadata": {
  "kernelspec": {
   "display_name": "Python 3",
   "language": "python",
   "name": "python3"
  },
  "language_info": {
   "codemirror_mode": {
    "name": "ipython",
    "version": 3
   },
   "file_extension": ".py",
   "mimetype": "text/x-python",
   "name": "python",
   "nbconvert_exporter": "python",
   "pygments_lexer": "ipython3",
   "version": "3.6.3"
  }
 },
 "nbformat": 4,
 "nbformat_minor": 2
}
